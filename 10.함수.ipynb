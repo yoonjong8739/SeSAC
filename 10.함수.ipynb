{
 "cells": [
  {
   "cell_type": "markdown",
   "id": "23c67c3a",
   "metadata": {},
   "source": [
    "함수"
   ]
  },
  {
   "cell_type": "code",
   "execution_count": 1,
   "id": "3c39e766",
   "metadata": {},
   "outputs": [
    {
     "name": "stdout",
     "output_type": "stream",
     "text": [
      "함수입니다.\n",
      "함수입니다.\n"
     ]
    },
    {
     "data": {
      "text/plain": [
       "3"
      ]
     },
     "execution_count": 1,
     "metadata": {},
     "output_type": "execute_result"
    }
   ],
   "source": [
    "def func(a, b):\n",
    "    print(\"함수입니다.\")\n",
    "    print(\"함수입니다.\")\n",
    "    return a + b\n",
    "\n",
    "func(1,2)"
   ]
  },
  {
   "cell_type": "code",
   "execution_count": 2,
   "id": "13a10659",
   "metadata": {},
   "outputs": [
    {
     "name": "stdout",
     "output_type": "stream",
     "text": [
      "Hello World\n"
     ]
    }
   ],
   "source": [
    "def func():\n",
    "    print(\"Hello World\")\n",
    "\n",
    "func()"
   ]
  },
  {
   "cell_type": "code",
   "execution_count": null,
   "id": "6e988105",
   "metadata": {},
   "outputs": [
    {
     "name": "stdout",
     "output_type": "stream",
     "text": [
      "Hello World\n",
      "None\n"
     ]
    }
   ],
   "source": [
    "test = func()\n",
    "print(test)  # 반환값이 없어 None 출력"
   ]
  },
  {
   "cell_type": "code",
   "execution_count": 4,
   "id": "2bc420a6",
   "metadata": {},
   "outputs": [
    {
     "name": "stdout",
     "output_type": "stream",
     "text": [
      "안녕하세요\n",
      "None\n"
     ]
    }
   ],
   "source": [
    "def func(a):\n",
    "    print(a)\n",
    "\n",
    "test = func(\"안녕하세요\")\n",
    "print(test)"
   ]
  },
  {
   "cell_type": "code",
   "execution_count": 5,
   "id": "59bd2f0c",
   "metadata": {},
   "outputs": [
    {
     "name": "stdout",
     "output_type": "stream",
     "text": [
      "(3, -1)\n"
     ]
    }
   ],
   "source": [
    "def func(a, b):\n",
    "    return a + b, a - b\n",
    "\n",
    "a = func(1, 2)\n",
    "print(a)"
   ]
  },
  {
   "cell_type": "code",
   "execution_count": 9,
   "id": "45053233",
   "metadata": {},
   "outputs": [
    {
     "name": "stdout",
     "output_type": "stream",
     "text": [
      "1\n",
      "5\n"
     ]
    }
   ],
   "source": [
    "a = 5 # 전역변수\n",
    "\n",
    "def func():\n",
    "    a = 1\n",
    "    print(a)\n",
    "\n",
    "func()\n",
    "print(a)"
   ]
  },
  {
   "cell_type": "code",
   "execution_count": 10,
   "id": "bed1d3b2",
   "metadata": {},
   "outputs": [
    {
     "name": "stdout",
     "output_type": "stream",
     "text": [
      "1\n",
      "1\n"
     ]
    }
   ],
   "source": [
    "a = 5 # 전역변수\n",
    "\n",
    "def func():\n",
    "    global a  # 전역변수 사용\n",
    "    a = 1     # 전역변수 변경\n",
    "    print(a)\n",
    "\n",
    "func()\n",
    "print(a)"
   ]
  },
  {
   "cell_type": "markdown",
   "id": "798ba45f",
   "metadata": {},
   "source": [
    "함수 응용"
   ]
  },
  {
   "cell_type": "code",
   "execution_count": null,
   "id": "223cc33d",
   "metadata": {},
   "outputs": [
    {
     "name": "stdout",
     "output_type": "stream",
     "text": [
      "1 2 3\n"
     ]
    }
   ],
   "source": [
    "# 인자값에 리스트 사용 (언패킹)\n",
    "\n",
    "x = [1, 2, 3]\n",
    "\n",
    "def func(a, b, c):\n",
    "    print(a, b, c)\n",
    "\n",
    "func(*x)  # func(x[0], x[1], x[2])"
   ]
  },
  {
   "cell_type": "code",
   "execution_count": null,
   "id": "b4b4c8df",
   "metadata": {},
   "outputs": [
    {
     "name": "stdout",
     "output_type": "stream",
     "text": [
      "(1, 2, 3, 4, 5, 6, 7, 8, 9, 10)\n",
      "(1, 5, 55, 6, 777)\n"
     ]
    }
   ],
   "source": [
    "# 가변인수\n",
    "\n",
    "def func(*args):\n",
    "    print(args)  # 마음대로 입력 가능\n",
    "\n",
    "func(1, 2, 3, 4, 5, 6, 7, 8, 9, 10)\n",
    "func(1,5,55,6,777)"
   ]
  },
  {
   "cell_type": "code",
   "execution_count": 16,
   "id": "56435492",
   "metadata": {},
   "outputs": [
    {
     "name": "stdout",
     "output_type": "stream",
     "text": [
      "1\n",
      "2\n",
      "3\n",
      "4\n",
      "5\n",
      "6\n",
      "7\n",
      "8\n",
      "9\n",
      "10\n",
      "1\n",
      "5\n",
      "55\n",
      "6\n",
      "777\n"
     ]
    }
   ],
   "source": [
    "def func(*args):\n",
    "    for a in args:\n",
    "        print(a)\n",
    "\n",
    "func(1, 2, 3, 4, 5, 6, 7, 8, 9, 10)\n",
    "func(1,5,55,6,777)"
   ]
  },
  {
   "cell_type": "code",
   "execution_count": null,
   "id": "ecb9f673",
   "metadata": {},
   "outputs": [
    {
     "name": "stdout",
     "output_type": "stream",
     "text": [
      "1 2\n",
      "3\n",
      "4\n",
      "5\n",
      "6\n",
      "7\n",
      "8\n",
      "9\n",
      "10\n"
     ]
    }
   ],
   "source": [
    "# 가변인수와 고정인수 사용\n",
    "\n",
    "def func(a, b, *args):\n",
    "    print(a, b)\n",
    "    for arg in args:\n",
    "        print(arg)\n",
    "\n",
    "func(1, 2, 3, 4, 5, 6, 7, 8, 9, 10)  # 1은 a에 할당, 2는 b에 할당"
   ]
  },
  {
   "cell_type": "code",
   "execution_count": 19,
   "id": "9d90e340",
   "metadata": {},
   "outputs": [
    {
     "name": "stdout",
     "output_type": "stream",
     "text": [
      "이메일 aaa@aaa.com\n",
      "이름 Anna\n"
     ]
    }
   ],
   "source": [
    "# 키워드 인수 & 딕셔너리 언패킹\n",
    "\n",
    "def func(email, name):\n",
    "    print(\"이메일\", email)\n",
    "    print(\"이름\", name)\n",
    "\n",
    "func(\"aaa@aaa.com\", \"Anna\")"
   ]
  },
  {
   "cell_type": "code",
   "execution_count": 24,
   "id": "e8b637a5",
   "metadata": {},
   "outputs": [
    {
     "name": "stdout",
     "output_type": "stream",
     "text": [
      "이메일 aaa@aaa.com\n",
      "이름 Anna\n"
     ]
    }
   ],
   "source": [
    "student = {\"email\" : \"aaa@aaa.com\", \"name\" : \"Anna\"}\n",
    "func(**student)"
   ]
  },
  {
   "cell_type": "code",
   "execution_count": 26,
   "id": "0ef8ba0c",
   "metadata": {},
   "outputs": [
    {
     "name": "stdout",
     "output_type": "stream",
     "text": [
      "{'email': 'aaa@aaa.com', 'name': 'Anna', 'math': 79}\n"
     ]
    }
   ],
   "source": [
    "# 가변 키워드 인수\n",
    "\n",
    "def func(**kwargs):  # key와 value로 된 데이터를 여러 개 받을 수 있음.\n",
    "    print(kwargs)\n",
    "\n",
    "func(email = \"aaa@aaa.com\", name = \"Anna\", math = 79)"
   ]
  },
  {
   "cell_type": "code",
   "execution_count": 29,
   "id": "44b19dba",
   "metadata": {},
   "outputs": [
    {
     "name": "stdout",
     "output_type": "stream",
     "text": [
      "email : aaa@aaa.com\n",
      "name : Anna\n",
      "math : 79\n"
     ]
    }
   ],
   "source": [
    "def func(**kwargs):\n",
    "    for kwarg in kwargs:\n",
    "        print(f\"{kwarg} : {kwargs[kwarg]}\")\n",
    "\n",
    "func(email = \"aaa@aaa.com\", name = \"Anna\", math = 79)"
   ]
  },
  {
   "cell_type": "code",
   "execution_count": 30,
   "id": "598bd5ff",
   "metadata": {},
   "outputs": [
    {
     "name": "stdout",
     "output_type": "stream",
     "text": [
      "이메일 : aaa@aaa.com\n",
      "이름 : Anna\n",
      "나이 : 19\n"
     ]
    }
   ],
   "source": [
    "# 매개변수 초기값\n",
    "\n",
    "def func(email, name, age = 19):\n",
    "    print(\"이메일 : {}\".format(email))\n",
    "    print(\"이름 : {}\".format(name))\n",
    "    print(\"나이 : {}\".format(age))\n",
    "\n",
    "func(\"aaa@aaa.com\", \"Anna\")"
   ]
  },
  {
   "cell_type": "code",
   "execution_count": null,
   "id": "86ba643f",
   "metadata": {},
   "outputs": [],
   "source": []
  }
 ],
 "metadata": {
  "kernelspec": {
   "display_name": "sesac_crawler1",
   "language": "python",
   "name": "python3"
  },
  "language_info": {
   "codemirror_mode": {
    "name": "ipython",
    "version": 3
   },
   "file_extension": ".py",
   "mimetype": "text/x-python",
   "name": "python",
   "nbconvert_exporter": "python",
   "pygments_lexer": "ipython3",
   "version": "3.6.13"
  }
 },
 "nbformat": 4,
 "nbformat_minor": 5
}
