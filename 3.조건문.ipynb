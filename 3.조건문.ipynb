{
 "cells": [
  {
   "cell_type": "markdown",
   "id": "dbe32288",
   "metadata": {},
   "source": [
    "조건문"
   ]
  },
  {
   "cell_type": "code",
   "execution_count": 1,
   "id": "102433a4",
   "metadata": {},
   "outputs": [
    {
     "name": "stdout",
     "output_type": "stream",
     "text": [
      "x가 10입니다.\n"
     ]
    }
   ],
   "source": [
    "x = 10\n",
    "\n",
    "if x == 10:\n",
    "    print(\"x가 10입니다.\")"
   ]
  },
  {
   "cell_type": "code",
   "execution_count": 2,
   "id": "32511dd4",
   "metadata": {},
   "outputs": [],
   "source": [
    "# if 조건 생략\n",
    "x = 10\n",
    "\n",
    "if x == 10:\n",
    "    #print(\"x가 10입니다.\")\n",
    "    pass"
   ]
  },
  {
   "cell_type": "code",
   "execution_count": 3,
   "id": "46aed4cd",
   "metadata": {},
   "outputs": [
    {
     "name": "stdout",
     "output_type": "stream",
     "text": [
      "x가 10입니다.\n"
     ]
    }
   ],
   "source": [
    "# 중첩 if문\n",
    "x = 10\n",
    "\n",
    "if x > 3 or x < 9:\n",
    "    print(\"x가 10입니다.\")"
   ]
  },
  {
   "cell_type": "code",
   "execution_count": null,
   "id": "b0a2896c",
   "metadata": {},
   "outputs": [],
   "source": [
    "if 0 < x < 9:\n",
    "    print(\"x가 10입니다.\")  # 미출력"
   ]
  },
  {
   "cell_type": "code",
   "execution_count": 5,
   "id": "3868da82",
   "metadata": {},
   "outputs": [
    {
     "name": "stdout",
     "output_type": "stream",
     "text": [
      "실행\n",
      "실행2\n"
     ]
    }
   ],
   "source": [
    "x = 20\n",
    "if x >= 10:\n",
    "    if x <= 20:\n",
    "        print(\"실행\")\n",
    "    if x < 30:\n",
    "        print(\"실행2\")"
   ]
  },
  {
   "cell_type": "code",
   "execution_count": 6,
   "id": "cb69e7cb",
   "metadata": {},
   "outputs": [
    {
     "name": "stdout",
     "output_type": "stream",
     "text": [
      "X는 A\n"
     ]
    }
   ],
   "source": [
    "x = \"A\"\n",
    "\n",
    "if x == \"A\":\n",
    "    print(\"X는 A\")\n",
    "elif x == \"B\":\n",
    "    print(\"X는 B\")\n",
    "elif x == \"C\":\n",
    "    print(\"X는 C\")\n",
    "else:\n",
    "    print(\"X는 A, B, C 모두 아니다.\")"
   ]
  },
  {
   "cell_type": "code",
   "execution_count": null,
   "id": "4209cead",
   "metadata": {},
   "outputs": [],
   "source": []
  }
 ],
 "metadata": {
  "kernelspec": {
   "display_name": "sesac_crawler1",
   "language": "python",
   "name": "python3"
  },
  "language_info": {
   "codemirror_mode": {
    "name": "ipython",
    "version": 3
   },
   "file_extension": ".py",
   "mimetype": "text/x-python",
   "name": "python",
   "nbconvert_exporter": "python",
   "pygments_lexer": "ipython3",
   "version": "3.6.13"
  }
 },
 "nbformat": 4,
 "nbformat_minor": 5
}
