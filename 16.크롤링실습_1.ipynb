{
 "cells": [
  {
   "cell_type": "markdown",
   "id": "c382bf74",
   "metadata": {},
   "source": [
    "HTML 문서 내에 ID가 cook인 태그의 내용을 출력"
   ]
  },
  {
   "cell_type": "code",
   "execution_count": 1,
   "id": "f72d9c6d",
   "metadata": {},
   "outputs": [],
   "source": [
    "import requests\n",
    "from bs4 import BeautifulSoup"
   ]
  },
  {
   "cell_type": "code",
   "execution_count": null,
   "id": "407a0b4e",
   "metadata": {},
   "outputs": [
    {
     "name": "stdout",
     "output_type": "stream",
     "text": [
      "\n",
      "    전통적인 요리법이나 양식은 상당한 차이가 있지만, 이탈리아 요리는 다른 국가의 요리 문화에서 다양한 영감을 줄 만큼 다양하고 혁신적인 것으로 평가되고 있다. 각 지방마다 고유의 특색이 있어 그 양식도 다양하지만 크게 북부와 남부로 나눌 수 있다. 다른 나라와 국경을 맞대고 있던 북부 지방은 산업화되어 경제적으로 풍족하고 농업이 발달해 쌀이 풍부해 유제품이 다양한 반면 경제적으로 침체되었던 남부 지방은 올리브와 토마토, 모차렐라 치즈가 유명하고 특별히 해산물을 활용한 요리가 많다. 식재료와 치즈 등의 차이는 파스타의 종류와 소스와 수프 등도 다름을 의미한다.\n",
      "\n"
     ]
    }
   ],
   "source": [
    "URL = \"https://crawlingstudy-dd3c9.web.app/01\"\n",
    "\n",
    "response = requests.get(URL)\n",
    "soup = BeautifulSoup(response.text, \"html.parser\")\n",
    "result = soup.find(\"p\", id=\"cook\")\n",
    "print(result.text)"
   ]
  },
  {
   "cell_type": "markdown",
   "id": "88018cf1",
   "metadata": {},
   "source": [
    "HTML 문서 내의 table 내의 th와 td에 있는 값들을 추출해 딕셔너리 형태를 만들어세요."
   ]
  },
  {
   "cell_type": "code",
   "execution_count": 29,
   "id": "c82ee176",
   "metadata": {},
   "outputs": [
    {
     "name": "stdout",
     "output_type": "stream",
     "text": [
      "[{'이름': '이몽룡', '나이': '34'}, {'이름': '홍길동', '나이': '23'}]\n"
     ]
    }
   ],
   "source": [
    "result = soup.find_all(\"th\", class_=\"tablehead\")\n",
    "result2 = soup.find_all(\"td\")\n",
    "\n",
    "#print(result[0].text) # 이름\n",
    "#print(result[1].text) # 나이\n",
    "\n",
    "#print(result2[0].text) # 이몽룡\n",
    "#print(result2[1].text) # 34\n",
    "#print(result2[2].text) # 홍길동\n",
    "#print(result2[3].text) # 23\n",
    "\n",
    "result_dict1 = {}\n",
    "result_dict2 = {}\n",
    "\n",
    "result_dict1[result[0].text] = result2[0].text\n",
    "result_dict1[result[1].text] = result2[1].text\n",
    "\n",
    "result_dict2[result[0].text] = result2[2].text\n",
    "result_dict2[result[1].text] = result2[3].text\n",
    "\n",
    "l = []\n",
    "l.append(result_dict1)\n",
    "l.append(result_dict2)\n",
    "print(l)"
   ]
  },
  {
   "cell_type": "code",
   "execution_count": null,
   "id": "79a5f234",
   "metadata": {},
   "outputs": [
    {
     "name": "stdout",
     "output_type": "stream",
     "text": [
      "[{'이름': '이몽룡', '나이': '34'}, {'이름': '홍길동', '나이': '23'}]\n"
     ]
    }
   ],
   "source": [
    "keys = soup.find_all(\"th\", class_=\"tablehead\")  # 이름, 나이 칼럼\n",
    "values = soup.find_all(\"td\")  # 실제 데이터\n",
    "\n",
    "k = []\n",
    "v = []\n",
    "\n",
    "for key in keys:\n",
    "    k.append(key.text)    # [이름, 나이]\n",
    "\n",
    "for value in values:\n",
    "    v.append(value.text)  # [이몽룡, 34, 홍길동, 23]\n",
    "\n",
    "result = [ dict(zip(k, v[i: i+2])) for i in range(0, len(v), 2) ]\n",
    "print(result)"
   ]
  },
  {
   "cell_type": "markdown",
   "id": "51393627",
   "metadata": {},
   "source": [
    "HTML 문서 내에 있는 모든 a 태그에 링크된 페이지 내용을 출력"
   ]
  },
  {
   "cell_type": "code",
   "execution_count": 68,
   "id": "8ae7bbf6",
   "metadata": {},
   "outputs": [
    {
     "name": "stdout",
     "output_type": "stream",
     "text": [
      "크롤링 연습사이트 01-1 페이지입니다.\n",
      "\n",
      "크롤링 연습사이트 01-2 페이지입니다.\n",
      "\n",
      "크롤링 연습사이트 01-3 페이지입니다.\n",
      "\n",
      "크롤링 연습사이트 01-4 페이지입니다.\n",
      "\n"
     ]
    }
   ],
   "source": [
    "URL = \"https://crawlingstudy-dd3c9.web.app/01/\"\n",
    "\n",
    "a_tags = soup.find_all(\"a\")\n",
    "#print(a_tags)\n",
    "\n",
    "for a in a_tags:\n",
    "    href = a.get(\"href\")\n",
    "    link = URL + href\n",
    "    #print(link)\n",
    "    res = requests.get(link)\n",
    "    soup2 = BeautifulSoup(res.text, \"html.parser\")\n",
    "    content = soup2.find(\"p\").text.lstrip()\n",
    "    print(content)"
   ]
  },
  {
   "cell_type": "code",
   "execution_count": null,
   "id": "f7ffa227",
   "metadata": {},
   "outputs": [],
   "source": []
  }
 ],
 "metadata": {
  "kernelspec": {
   "display_name": "sesac_crawler1",
   "language": "python",
   "name": "python3"
  },
  "language_info": {
   "codemirror_mode": {
    "name": "ipython",
    "version": 3
   },
   "file_extension": ".py",
   "mimetype": "text/x-python",
   "name": "python",
   "nbconvert_exporter": "python",
   "pygments_lexer": "ipython3",
   "version": "3.6.13"
  }
 },
 "nbformat": 4,
 "nbformat_minor": 5
}
