{
 "cells": [
  {
   "cell_type": "markdown",
   "id": "cabce8ca",
   "metadata": {},
   "source": [
    "람다표현식"
   ]
  },
  {
   "cell_type": "code",
   "execution_count": 1,
   "id": "f6cd75c6",
   "metadata": {},
   "outputs": [
    {
     "data": {
      "text/plain": [
       "11"
      ]
     },
     "execution_count": 1,
     "metadata": {},
     "output_type": "execute_result"
    }
   ],
   "source": [
    "plus_ten = lambda x : x+10\n",
    "plus_ten(1)"
   ]
  },
  {
   "cell_type": "code",
   "execution_count": 2,
   "id": "5507a405",
   "metadata": {},
   "outputs": [
    {
     "data": {
      "text/plain": [
       "11"
      ]
     },
     "execution_count": 2,
     "metadata": {},
     "output_type": "execute_result"
    }
   ],
   "source": [
    "(lambda x : x+10)(1)"
   ]
  },
  {
   "cell_type": "code",
   "execution_count": null,
   "id": "75e08923",
   "metadata": {},
   "outputs": [
    {
     "data": {
      "text/plain": [
       "30"
      ]
     },
     "execution_count": 3,
     "metadata": {},
     "output_type": "execute_result"
    }
   ],
   "source": [
    "y = 20\n",
    "(lambda x : x + y)(10)"
   ]
  },
  {
   "cell_type": "markdown",
   "id": "7a0caf95",
   "metadata": {},
   "source": [
    "map - 반복되는 자료형의 값들을 함수를 이용하여 값을 가공"
   ]
  },
  {
   "cell_type": "code",
   "execution_count": 4,
   "id": "303e7c71",
   "metadata": {},
   "outputs": [
    {
     "data": {
      "text/plain": [
       "[1, 0, 3, 0, 5, 0, 7, 0, 9, 0]"
      ]
     },
     "execution_count": 4,
     "metadata": {},
     "output_type": "execute_result"
    }
   ],
   "source": [
    "a = [1, 2, 3, 4, 5, 6, 7, 8 , 9, 10]\n",
    "\n",
    "def f(x):\n",
    "    if x % 2 == 0:\n",
    "        return 0\n",
    "    else:\n",
    "        return x\n",
    "\n",
    "list(map(f, a))"
   ]
  },
  {
   "cell_type": "code",
   "execution_count": 5,
   "id": "ad514112",
   "metadata": {},
   "outputs": [
    {
     "data": {
      "text/plain": [
       "[1, 0, 3, 0, 5, 0, 7, 0, 9, 0]"
      ]
     },
     "execution_count": 5,
     "metadata": {},
     "output_type": "execute_result"
    }
   ],
   "source": [
    "list(map(lambda x : 0 if x % 2 == 0 else x, a))"
   ]
  },
  {
   "cell_type": "code",
   "execution_count": null,
   "id": "1b8346ad",
   "metadata": {},
   "outputs": [
    {
     "data": {
      "text/plain": [
       "[2, 0, 1, 0, 2, 0, 2, 0, 1, 0]"
      ]
     },
     "execution_count": 7,
     "metadata": {},
     "output_type": "execute_result"
    }
   ],
   "source": [
    "# 람다표현식에서는 elif 사용 불가\n",
    "a = [1, 2, 3, 4, 5, 6, 7, 8 , 9, 10]\n",
    "\n",
    "list(map(lambda x : 0 if x % 2 == 0 else 1 if x % 3 == 0 else 2, a))"
   ]
  },
  {
   "cell_type": "markdown",
   "id": "c96b8c77",
   "metadata": {},
   "source": [
    "filter - 반복되는 자료형의 값들을 함수를 이용하여 참인 것만 걸러냄."
   ]
  },
  {
   "cell_type": "code",
   "execution_count": 9,
   "id": "1eb4bade",
   "metadata": {},
   "outputs": [
    {
     "data": {
      "text/plain": [
       "[3, 4, 5, 6, 7]"
      ]
     },
     "execution_count": 9,
     "metadata": {},
     "output_type": "execute_result"
    }
   ],
   "source": [
    "a = [1, 2, 3, 4, 5, 6, 7, 8 , 9, 10]\n",
    "\n",
    "list(filter(lambda x : 2 < x < 8, a))"
   ]
  },
  {
   "cell_type": "code",
   "execution_count": null,
   "id": "98edadf6",
   "metadata": {},
   "outputs": [],
   "source": []
  }
 ],
 "metadata": {
  "kernelspec": {
   "display_name": "sesac_crawler1",
   "language": "python",
   "name": "python3"
  },
  "language_info": {
   "codemirror_mode": {
    "name": "ipython",
    "version": 3
   },
   "file_extension": ".py",
   "mimetype": "text/x-python",
   "name": "python",
   "nbconvert_exporter": "python",
   "pygments_lexer": "ipython3",
   "version": "3.6.13"
  }
 },
 "nbformat": 4,
 "nbformat_minor": 5
}
