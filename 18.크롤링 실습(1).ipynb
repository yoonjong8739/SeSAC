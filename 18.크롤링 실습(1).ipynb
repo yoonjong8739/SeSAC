{
 "cells": [
  {
   "cell_type": "markdown",
   "id": "c24768df",
   "metadata": {},
   "source": [
    "사이트 내에 인기 검색종목과 주요 해외지수를 각각 크롤링하여 종목명과 주가지수를 리스트로 정리하시오."
   ]
  },
  {
   "cell_type": "code",
   "execution_count": 1,
   "id": "b2bab407",
   "metadata": {},
   "outputs": [],
   "source": [
    "import requests\n",
    "from bs4 import BeautifulSoup\n",
    "URL = \"https://crawlingstudy-dd3c9.web.app/03/\""
   ]
  },
  {
   "cell_type": "code",
   "execution_count": 2,
   "id": "b2ae7974",
   "metadata": {},
   "outputs": [],
   "source": [
    "response = requests.get(URL)\n",
    "soup = BeautifulSoup(response.text, \"html.parser\")"
   ]
  },
  {
   "cell_type": "code",
   "execution_count": 3,
   "id": "6ce31dbc",
   "metadata": {},
   "outputs": [
    {
     "name": "stdout",
     "output_type": "stream",
     "text": [
      "[['써니전자', '5,000'], ['삼성전자', '55,200'], ['안랩', '81,000'], ['케이엠더블..', '57,300'], ['피피아이', '12,600'], ['KT&G', '92,500'], ['삼성전자우', '45,600'], ['대양금속', '10,550'], ['SK하이닉스', '94,700'], ['SK텔레콤', '234,000']]\n"
     ]
    }
   ],
   "source": [
    "favorite_name = soup.select(\"#popularItemList > li > a\")\n",
    "favorite_price = soup.select(\"#popularItemList > li > span\")\n",
    "\n",
    "name = []\n",
    "\n",
    "for idx in range(len(favorite_name)):\n",
    "    f_n = favorite_name[idx].text\n",
    "    f_p = favorite_price[idx].text\n",
    "    name.append([f_n, f_p])\n",
    "print(name)"
   ]
  },
  {
   "cell_type": "code",
   "execution_count": 4,
   "id": "9ce68b48",
   "metadata": {},
   "outputs": [
    {
     "name": "stdout",
     "output_type": "stream",
     "text": [
      "[['다우산업', '28,647.43'], ['나스닥', '9,015.03'], ['홍콩H', '11,320.56'], ['상해종합', '3,085.20'], ['니케이225', '23,656.62']]\n"
     ]
    }
   ],
   "source": [
    "foreign_name = soup.select(\".lst_major > li > a\")\n",
    "foreign_index = soup.select(\".lst_major > li > span\")\n",
    "\n",
    "index_list = []\n",
    "\n",
    "for idx in range(len(foreign_name)):\n",
    "    fo_n = foreign_name[idx].text\n",
    "    fo_i = foreign_index[idx].text\n",
    "    index_list.append([fo_n, fo_i])\n",
    "print(index_list)"
   ]
  },
  {
   "cell_type": "code",
   "execution_count": null,
   "id": "0b8d004c",
   "metadata": {},
   "outputs": [],
   "source": []
  },
  {
   "cell_type": "markdown",
   "id": "61398f95",
   "metadata": {},
   "source": [
    "사이트 내에 인기검색종목과 주요 해외지수를 각각 크롤링하여 종목명과 상한, 하한 여부를 리스트로 정리하시오."
   ]
  },
  {
   "cell_type": "code",
   "execution_count": 5,
   "id": "a5247a05",
   "metadata": {},
   "outputs": [
    {
     "name": "stdout",
     "output_type": "stream",
     "text": [
      "[['써니전자', '상한'], ['삼성전자', '하락'], ['안랩', '상승'], ['케이엠더블..', '상승'], ['피피아이', '상한'], ['KT&G', '하락'], ['삼성전자우', '상승'], ['대양금속', '하한'], ['SK하이닉스', '상승'], ['SK텔레콤', '하락']]\n"
     ]
    }
   ],
   "source": [
    "favorite_name = soup.select(\"#popularItemList > li\")\n",
    "\n",
    "status_list = []\n",
    "\n",
    "for item in favorite_name:\n",
    "    status_list.append([item.select_one(\"a\").text, item.select_one(\"img\")[\"alt\"]])\n",
    "print(status_list)"
   ]
  },
  {
   "cell_type": "code",
   "execution_count": 6,
   "id": "bb8b4691",
   "metadata": {},
   "outputs": [
    {
     "name": "stdout",
     "output_type": "stream",
     "text": [
      "[['다우산업', '상한'], ['나스닥', '상한'], ['홍콩H', '상한'], ['상해종합', '상한'], ['니케이225', '하락']]\n"
     ]
    }
   ],
   "source": [
    "foreign_name = soup.select(\".lst_major > li\")\n",
    "\n",
    "foreign_list = []\n",
    "\n",
    "for item in foreign_name:\n",
    "    foreign_list.append([item.select_one(\"a\").text, item.select_one(\"img\")[\"alt\"]])\n",
    "print(foreign_list)"
   ]
  },
  {
   "cell_type": "code",
   "execution_count": null,
   "id": "2269fa9c",
   "metadata": {},
   "outputs": [],
   "source": []
  },
  {
   "cell_type": "markdown",
   "id": "6fcd0916",
   "metadata": {},
   "source": [
    "사이트 내에 인기 검색종목과 주요 해외지수를 각각 상한가인 종목만 크롤링하여 종목명과 주가지수를 리스트로 정리하시오"
   ]
  },
  {
   "cell_type": "code",
   "execution_count": 7,
   "id": "7dc32ede",
   "metadata": {},
   "outputs": [
    {
     "name": "stdout",
     "output_type": "stream",
     "text": [
      "[['써니전자', '5,000', '상한'], ['안랩', '81,000', '상승'], ['케이엠더블..', '57,300', '상승'], ['피피아이', '12,600', '상한'], ['삼성전자우', '45,600', '상승'], ['SK하이닉스', '94,700', '상승']]\n"
     ]
    }
   ],
   "source": [
    "popular_items = soup.select(\"#popularItemList > li\")\n",
    "\n",
    "items_list = []\n",
    "for item in popular_items:\n",
    "    name = item.select_one(\"a\").text\n",
    "    status = item.select_one(\"img\")[\"alt\"]\n",
    "    price = item.select_one(\"span\").text\n",
    "    if status == \"상한\" or status == \"상승\":\n",
    "        items_list.append([name, price, status])\n",
    "print(items_list)"
   ]
  },
  {
   "cell_type": "code",
   "execution_count": 8,
   "id": "93848b96",
   "metadata": {},
   "outputs": [
    {
     "name": "stdout",
     "output_type": "stream",
     "text": [
      "[['다우산업', '28,647.43', '상한'], ['나스닥', '9,015.03', '상한'], ['홍콩H', '11,320.56', '상한'], ['상해종합', '3,085.20', '상한']]\n"
     ]
    }
   ],
   "source": [
    "main_foreign_index = soup.select(\".lst_major > li\")\n",
    "\n",
    "main_foreign_index_list = []\n",
    "for item in main_foreign_index:\n",
    "    name = item.select_one(\"a\").text\n",
    "    status = item.select_one(\"img\")[\"alt\"]\n",
    "    index = item.select_one(\"span\").text\n",
    "    if status == \"상한\":\n",
    "        main_foreign_index_list.append([name, index, status])\n",
    "print(main_foreign_index_list)"
   ]
  },
  {
   "cell_type": "code",
   "execution_count": null,
   "id": "a8addb1a",
   "metadata": {},
   "outputs": [],
   "source": []
  },
  {
   "cell_type": "markdown",
   "id": "25f755dd",
   "metadata": {},
   "source": [
    "분양중인 아파트 정보를 크롤링하여 딕셔너리 형태로 정리"
   ]
  },
  {
   "cell_type": "code",
   "execution_count": 9,
   "id": "fcd40b21",
   "metadata": {},
   "outputs": [
    {
     "name": "stdout",
     "output_type": "stream",
     "text": [
      "[{'이름': 'H하우스장위', '보증금': '16,000', '유형': '아파트', '분양유형': '일반민간임대', '세대 수': '분양 134세대', '평형': '45㎡~65㎡'}, {'이름': '고덕리엔파크2단지 장기전세', '보증금': '38,400', '유형': '아파트', '분양유형': '장기전세주택', '세대 수': '분양 1세대', '평형': '149㎡'}, {'이름': '신정이펜하우스3단지 장기전세', '보증금': '39,040', '유형': '아파트', '분양유형': '장기전세주택', '세대 수': '분양 1세대', '평형': '148㎡'}, {'이름': '천왕이펜하우스2단지 장기전세', '보증금': '38,240', '유형': '아파트', '분양유형': '장기전세주택', '세대 수': '분양 1세대', '평형': '142㎡'}, {'이름': '송파파크데일2단지 장기전세', '보증금': '45,600', '유형': '아파트', '분양유형': '장기전세주택', '세대 수': '분양 1세대', '평형': '150㎡'}]\n"
     ]
    }
   ],
   "source": [
    "apt = []\n",
    "\n",
    "for item in soup.select(\".sale_list li\"):\n",
    "    name = item.select_one(\".sale_tit\").text.strip()\n",
    "    details = item.select(\".detail_info dd.txt\")\n",
    "    apt.append({\n",
    "        \"이름\": name,\n",
    "        \"보증금\" : details[0].select_one(\".point\").text,\n",
    "        \"유형\" : details[1].text.split(\"|\")[0],\n",
    "        \"분양유형\" : details[1].text.split(\"|\")[1],\n",
    "        \"세대 수\" : details[2].text.split(\"|\")[0],\n",
    "        \"평형\" : details[2].text.split(\"|\")[1]\n",
    "    })\n",
    "\n",
    "print(apt)"
   ]
  },
  {
   "cell_type": "code",
   "execution_count": null,
   "id": "9620b7a2",
   "metadata": {},
   "outputs": [],
   "source": []
  },
  {
   "cell_type": "code",
   "execution_count": null,
   "id": "b06a227d",
   "metadata": {},
   "outputs": [],
   "source": []
  },
  {
   "cell_type": "code",
   "execution_count": null,
   "id": "1b282dd3",
   "metadata": {},
   "outputs": [],
   "source": []
  },
  {
   "cell_type": "markdown",
   "id": "1c0f5244",
   "metadata": {},
   "source": []
  }
 ],
 "metadata": {
  "kernelspec": {
   "display_name": "sesac_crawler1",
   "language": "python",
   "name": "python3"
  },
  "language_info": {
   "codemirror_mode": {
    "name": "ipython",
    "version": 3
   },
   "file_extension": ".py",
   "mimetype": "text/x-python",
   "name": "python",
   "nbconvert_exporter": "python",
   "pygments_lexer": "ipython3",
   "version": "3.6.13"
  }
 },
 "nbformat": 4,
 "nbformat_minor": 5
}
