{
 "cells": [
  {
   "cell_type": "markdown",
   "id": "c24768df",
   "metadata": {},
   "source": [
    "사이트 내에 인기 검색종목과 주요 해외지수를 각각 크롤링하여 종목명과 주가지수를 리스트로 정리하시오."
   ]
  },
  {
   "cell_type": "code",
   "execution_count": 1,
   "id": "b2bab407",
   "metadata": {},
   "outputs": [],
   "source": [
    "import requests\n",
    "from bs4 import BeautifulSoup\n",
    "URL = \"https://crawlingstudy-dd3c9.web.app/03/\""
   ]
  },
  {
   "cell_type": "code",
   "execution_count": 2,
   "id": "b2ae7974",
   "metadata": {},
   "outputs": [],
   "source": [
    "response = requests.get(URL)\n",
    "soup = BeautifulSoup(response.text, \"html.parser\")"
   ]
  },
  {
   "cell_type": "code",
   "execution_count": 14,
   "id": "6ce31dbc",
   "metadata": {},
   "outputs": [
    {
     "name": "stdout",
     "output_type": "stream",
     "text": [
      "[['써니전자', '5,000'], ['삼성전자', '55,200'], ['안랩', '81,000'], ['케이엠더블..', '57,300'], ['피피아이', '12,600'], ['KT&G', '92,500'], ['삼성전자우', '45,600'], ['대양금속', '10,550'], ['SK하이닉스', '94,700'], ['SK텔레콤', '234,000']]\n"
     ]
    }
   ],
   "source": [
    "favorite_name = soup.select(\"#popularItemList > li > a\")\n",
    "favorite_price = soup.select(\"#popularItemList > li > span\")\n",
    "\n",
    "name = []\n",
    "\n",
    "for idx in range(len(favorite_name)):\n",
    "    f_n = favorite_name[idx].text\n",
    "    f_p = favorite_price[idx].text\n",
    "    name.append([f_n, f_p])\n",
    "print(name)"
   ]
  },
  {
   "cell_type": "code",
   "execution_count": 15,
   "id": "9ce68b48",
   "metadata": {},
   "outputs": [
    {
     "name": "stdout",
     "output_type": "stream",
     "text": [
      "[['다우산업', '28,647.43'], ['나스닥', '9,015.03'], ['홍콩H', '11,320.56'], ['상해종합', '3,085.20'], ['니케이225', '23,656.62']]\n"
     ]
    }
   ],
   "source": [
    "foreign_name = soup.select(\".lst_major > li > a\")\n",
    "foreign_index = soup.select(\".lst_major > li > span\")\n",
    "\n",
    "index_list = []\n",
    "\n",
    "for idx in range(len(foreign_name)):\n",
    "    fo_n = foreign_name[idx].text\n",
    "    fo_i = foreign_index[idx].text\n",
    "    index_list.append([fo_n, fo_i])\n",
    "print(index_list)"
   ]
  },
  {
   "cell_type": "code",
   "execution_count": null,
   "id": "0b8d004c",
   "metadata": {},
   "outputs": [],
   "source": []
  },
  {
   "cell_type": "markdown",
   "id": "61398f95",
   "metadata": {},
   "source": [
    "사이트 내에 인기검색종목과 주요 해외지수를 각각 크롤링하여 종목명과 상한, 하한 여부를 리스트로 정리하시오."
   ]
  },
  {
   "cell_type": "code",
   "execution_count": null,
   "id": "a5247a05",
   "metadata": {},
   "outputs": [
    {
     "name": "stdout",
     "output_type": "stream",
     "text": [
      "[['써니전자', '상한'], ['삼성전자', '하락'], ['안랩', '상승'], ['케이엠더블..', '상승'], ['피피아이', '상한'], ['KT&G', '하락'], ['삼성전자우', '상승'], ['대양금속', '하한'], ['SK하이닉스', '상승'], ['SK텔레콤', '하락']]\n"
     ]
    }
   ],
   "source": [
    "favorite_name = soup.select(\"#popularItemList > li\")\n",
    "\n",
    "status_list = []\n",
    "\n",
    "for item in favorite_name:\n",
    "    status_list.append([item.select_one(\"a\").text, item.select_one(\"img\")[\"alt\"]])\n",
    "print(status_list)"
   ]
  },
  {
   "cell_type": "code",
   "execution_count": null,
   "id": "bb8b4691",
   "metadata": {},
   "outputs": [
    {
     "name": "stdout",
     "output_type": "stream",
     "text": [
      "[['다우산업', '상한'], ['나스닥', '상한'], ['홍콩H', '상한'], ['상해종합', '상한'], ['니케이225', '하락']]\n"
     ]
    }
   ],
   "source": [
    "foreign_name = soup.select(\".lst_major > li\")\n",
    "\n",
    "foreign_list = []\n",
    "\n",
    "for item in foreign_name:\n",
    "    foreign_list.append([item.select_one(\"a\").text, item.select_one(\"img\")[\"alt\"]])\n",
    "print(foreign_list)"
   ]
  },
  {
   "cell_type": "code",
   "execution_count": null,
   "id": "2269fa9c",
   "metadata": {},
   "outputs": [],
   "source": []
  }
 ],
 "metadata": {
  "kernelspec": {
   "display_name": "sesac_crawler1",
   "language": "python",
   "name": "python3"
  },
  "language_info": {
   "codemirror_mode": {
    "name": "ipython",
    "version": 3
   },
   "file_extension": ".py",
   "mimetype": "text/x-python",
   "name": "python",
   "nbconvert_exporter": "python",
   "pygments_lexer": "ipython3",
   "version": "3.6.13"
  }
 },
 "nbformat": 4,
 "nbformat_minor": 5
}
