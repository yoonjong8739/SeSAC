{
 "cells": [
  {
   "cell_type": "markdown",
   "id": "8c531804",
   "metadata": {},
   "source": [
    "1. x = [3, 6, 9, 20, -7, 5]의 값의 모든 요소에 10을 곱하여 저장 후 출력\n",
    "2. y = {\"math\":70, \"science\":80, \"english\":20}의 값의 모든 요소에 10을 더하여 저장한 뒤 출력"
   ]
  },
  {
   "cell_type": "code",
   "execution_count": null,
   "id": "2355b45d",
   "metadata": {},
   "outputs": [
    {
     "name": "stdout",
     "output_type": "stream",
     "text": [
      "[30, 60, 90, 200, -70, 50]\n"
     ]
    }
   ],
   "source": [
    "x = [3, 6, 9, 20, -7, 5]\n",
    "\n",
    "for i in range(len(x)):\n",
    "    x[i] = x[i]*10\n",
    "\n",
    "print(x)"
   ]
  },
  {
   "cell_type": "code",
   "execution_count": null,
   "id": "9c24c14f",
   "metadata": {},
   "outputs": [
    {
     "name": "stdout",
     "output_type": "stream",
     "text": [
      "{'math': 80, 'science': 90, 'english': 30}\n"
     ]
    }
   ],
   "source": [
    "y = {\"math\":70, \"science\":80, \"english\":20}\n",
    "\n",
    "for i in y:\n",
    "    y[i] += 10\n",
    "print(y)"
   ]
  },
  {
   "cell_type": "markdown",
   "id": "7d3da0f0",
   "metadata": {},
   "source": [
    "3. [3, 6, 9, 20, -7, 5] 리스트를 sort 함수 대신 for 반복문으로 오름차순 정렬하시오."
   ]
  },
  {
   "cell_type": "code",
   "execution_count": 40,
   "id": "f2ac7e2f",
   "metadata": {},
   "outputs": [
    {
     "name": "stdout",
     "output_type": "stream",
     "text": [
      "[-7, 3, 5, 6, 9, 20]\n"
     ]
    }
   ],
   "source": [
    "x = [3, 6, 9, 20, -7, 5]\n",
    "\n",
    "for i in range(len(x)):\n",
    "    for j in range(i+1, len(x)):\n",
    "        if x[i] > x[j]:\n",
    "            temp = x[j]\n",
    "            x[j] = x[i]\n",
    "            x[i] = temp\n",
    "print(x)"
   ]
  },
  {
   "cell_type": "markdown",
   "id": "3bed8029",
   "metadata": {},
   "source": [
    "4. 1 ~ 100까지 숫자 중 3과 5의 공배수일 경우 \"3과 5의 공배수\" 나머지 숫자 중 3의 배수일 경우 \"3의 배수\" 나머지 숫자 중 5의 배수일 경우 \"5의 배수\" 모두 해당하지 않을 경우 그냥 숫자를 출력"
   ]
  },
  {
   "cell_type": "code",
   "execution_count": 42,
   "id": "df456b57",
   "metadata": {},
   "outputs": [
    {
     "name": "stdout",
     "output_type": "stream",
     "text": [
      "1\n",
      "2\n",
      "3의 배수\n",
      "4\n",
      "5의 배수\n",
      "3의 배수\n",
      "7\n",
      "8\n",
      "3의 배수\n",
      "5의 배수\n",
      "11\n",
      "3의 배수\n",
      "13\n",
      "14\n",
      "3과 5의 공배수\n",
      "16\n",
      "17\n",
      "3의 배수\n",
      "19\n",
      "5의 배수\n",
      "3의 배수\n",
      "22\n",
      "23\n",
      "3의 배수\n",
      "5의 배수\n",
      "26\n",
      "3의 배수\n",
      "28\n",
      "29\n",
      "3과 5의 공배수\n",
      "31\n",
      "32\n",
      "3의 배수\n",
      "34\n",
      "5의 배수\n",
      "3의 배수\n",
      "37\n",
      "38\n",
      "3의 배수\n",
      "5의 배수\n",
      "41\n",
      "3의 배수\n",
      "43\n",
      "44\n",
      "3과 5의 공배수\n",
      "46\n",
      "47\n",
      "3의 배수\n",
      "49\n",
      "5의 배수\n",
      "3의 배수\n",
      "52\n",
      "53\n",
      "3의 배수\n",
      "5의 배수\n",
      "56\n",
      "3의 배수\n",
      "58\n",
      "59\n",
      "3과 5의 공배수\n",
      "61\n",
      "62\n",
      "3의 배수\n",
      "64\n",
      "5의 배수\n",
      "3의 배수\n",
      "67\n",
      "68\n",
      "3의 배수\n",
      "5의 배수\n",
      "71\n",
      "3의 배수\n",
      "73\n",
      "74\n",
      "3과 5의 공배수\n",
      "76\n",
      "77\n",
      "3의 배수\n",
      "79\n",
      "5의 배수\n",
      "3의 배수\n",
      "82\n",
      "83\n",
      "3의 배수\n",
      "5의 배수\n",
      "86\n",
      "3의 배수\n",
      "88\n",
      "89\n",
      "3과 5의 공배수\n",
      "91\n",
      "92\n",
      "3의 배수\n",
      "94\n",
      "5의 배수\n",
      "3의 배수\n",
      "97\n",
      "98\n",
      "3의 배수\n",
      "5의 배수\n"
     ]
    }
   ],
   "source": [
    "for i in range(1, 101):\n",
    "    if i % 15 == 0:\n",
    "        print(\"3과 5의 공배수\")\n",
    "    elif i % 3 == 0:\n",
    "        print(\"3의 배수\")\n",
    "    elif i % 5 == 0:\n",
    "        print(\"5의 배수\")\n",
    "    else:\n",
    "        print(i)"
   ]
  },
  {
   "cell_type": "code",
   "execution_count": null,
   "id": "3810fcec",
   "metadata": {},
   "outputs": [],
   "source": []
  }
 ],
 "metadata": {
  "kernelspec": {
   "display_name": "sesac_crawler1",
   "language": "python",
   "name": "python3"
  },
  "language_info": {
   "codemirror_mode": {
    "name": "ipython",
    "version": 3
   },
   "file_extension": ".py",
   "mimetype": "text/x-python",
   "name": "python",
   "nbconvert_exporter": "python",
   "pygments_lexer": "ipython3",
   "version": "3.6.13"
  }
 },
 "nbformat": 4,
 "nbformat_minor": 5
}
