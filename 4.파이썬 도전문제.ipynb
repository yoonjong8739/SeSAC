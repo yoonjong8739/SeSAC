{
 "cells": [
  {
   "cell_type": "markdown",
   "id": "c7262c71",
   "metadata": {},
   "source": [
    "1. 사용자로 점수를 3개 입력받아 모든 점수가 65점보다 클 경우 '합격' 아닐 경우 '불합격'을 출력하세요.\n",
    " - 단, 0~100 이 아닌 숫자가 입력된 경우 \"잘못된 점수가 입력되었습니다.\" 를 출력하세요."
   ]
  },
  {
   "cell_type": "code",
   "execution_count": 37,
   "id": "594b32bd",
   "metadata": {},
   "outputs": [
    {
     "name": "stdout",
     "output_type": "stream",
     "text": [
      "합격\n"
     ]
    }
   ],
   "source": [
    "a = int(input(\"첫 번째 점수를 입력해주세요 : \"))\n",
    "b = int(input(\"두 번째 점수를 입력해주세요 : \"))\n",
    "c = int(input(\"세 번째 점수를 입력해주세요 : \"))\n",
    "\n",
    "if (a or b or c) > 100 or (a or b or c) < 0:\n",
    "    print(\"잘못된 점수를 입력되었습니다.\")\n",
    "elif  0 < (a or b or c) <= 65:\n",
    "    print(\"불합격\")\n",
    "elif 65 < (a and b and c) <= 100:\n",
    "    print(\"합격\")  "
   ]
  },
  {
   "cell_type": "markdown",
   "id": "e852c3fd",
   "metadata": {},
   "source": [
    "2. fruit, vegetable 리스트 2개 만들고 유저로부터 카테고리와 상품명을 입력받아 카테고리가 과일일때는 fruit 리스트에 채소일때는 vetgetable 리스트에 상품을 추가하고 리스트의 모든 내용을 추가해주세요.\n",
    "- 단, 카테고리명이 채소나 과일이 아닐경우 \"존재하지 않는 카테고리 입니다.\" 이미 등록되어 있는 경우 \"이미 등록된 과일입니다.\" or \"이미 등록된 채소입니다.\" 를 출력해주세요."
   ]
  },
  {
   "cell_type": "code",
   "execution_count": 51,
   "id": "5591e143",
   "metadata": {},
   "outputs": [],
   "source": [
    "fruit = [\"사과\", \"오렌지\"]\n",
    "vegetable = [\"당근\", \"호박\"]"
   ]
  },
  {
   "cell_type": "code",
   "execution_count": 56,
   "id": "d145b639",
   "metadata": {},
   "outputs": [
    {
     "name": "stdout",
     "output_type": "stream",
     "text": [
      "이미 등록된 채소입니다.\n"
     ]
    }
   ],
   "source": [
    "answer1 = input(\"등록할 카테고리를 선택해주세요 (과일, 채소) : \")\n",
    "\n",
    "if answer1 == \"과일\":\n",
    "    answer2 = input(\"등록할 과일을 입력해주세요 : \")\n",
    "    if answer2 in fruit:\n",
    "        print(\"이미 등록된 과일입니다.\")\n",
    "    else:\n",
    "        fruit.append(answer2)\n",
    "        print(fruit)\n",
    "\n",
    "elif answer1 == \"채소\":\n",
    "    answer2 = input(\"등록할 채소를 입력해주세요 : \")\n",
    "    if answer2 in vegetable:\n",
    "        print(\"이미 등록된 채소입니다.\")\n",
    "    else:\n",
    "        vegetable.append(answer2)\n",
    "        print(vegetable)\n",
    "\n",
    "else:\n",
    "    print(\"존재하지 않는 카테고리 입니다.\")"
   ]
  },
  {
   "cell_type": "code",
   "execution_count": null,
   "id": "9f7dbf94",
   "metadata": {},
   "outputs": [],
   "source": []
  }
 ],
 "metadata": {
  "kernelspec": {
   "display_name": "sesac_crawler1",
   "language": "python",
   "name": "python3"
  },
  "language_info": {
   "codemirror_mode": {
    "name": "ipython",
    "version": 3
   },
   "file_extension": ".py",
   "mimetype": "text/x-python",
   "name": "python",
   "nbconvert_exporter": "python",
   "pygments_lexer": "ipython3",
   "version": "3.6.13"
  }
 },
 "nbformat": 4,
 "nbformat_minor": 5
}
