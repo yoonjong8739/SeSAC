{
 "cells": [
  {
   "cell_type": "markdown",
   "id": "c6f130bc",
   "metadata": {},
   "source": [
    "for 반복문"
   ]
  },
  {
   "cell_type": "code",
   "execution_count": 1,
   "id": "d61a978b",
   "metadata": {},
   "outputs": [
    {
     "name": "stdout",
     "output_type": "stream",
     "text": [
      "반복문\n",
      "반복문\n",
      "반복문\n",
      "반복문\n",
      "반복문\n",
      "반복문\n",
      "반복문\n",
      "반복문\n",
      "반복문\n",
      "반복문\n"
     ]
    }
   ],
   "source": [
    "for i in range(10):\n",
    "    print(\"반복문\")"
   ]
  },
  {
   "cell_type": "code",
   "execution_count": 2,
   "id": "d036b5dc",
   "metadata": {},
   "outputs": [
    {
     "name": "stdout",
     "output_type": "stream",
     "text": [
      "0\n",
      "1\n",
      "2\n",
      "3\n",
      "4\n"
     ]
    }
   ],
   "source": [
    "for i in range(0, 5):\n",
    "    print(i)"
   ]
  },
  {
   "cell_type": "code",
   "execution_count": 3,
   "id": "16965cba",
   "metadata": {},
   "outputs": [
    {
     "name": "stdout",
     "output_type": "stream",
     "text": [
      "10\n",
      "9\n",
      "8\n",
      "7\n",
      "6\n",
      "5\n",
      "4\n",
      "3\n",
      "2\n",
      "1\n"
     ]
    }
   ],
   "source": [
    "for i in range(10, 0, -1):\n",
    "    print(i)"
   ]
  },
  {
   "cell_type": "code",
   "execution_count": null,
   "id": "eedbfa80",
   "metadata": {},
   "outputs": [
    {
     "name": "stdout",
     "output_type": "stream",
     "text": [
      "Orange"
     ]
    }
   ],
   "source": [
    "for i in \"Orange\":\n",
    "    print(i, end=\"\")"
   ]
  },
  {
   "cell_type": "code",
   "execution_count": 6,
   "id": "3f8effff",
   "metadata": {},
   "outputs": [
    {
     "name": "stdout",
     "output_type": "stream",
     "text": [
      "name\n",
      "math\n",
      "english\n"
     ]
    }
   ],
   "source": [
    "a = {\"name\":\"tom\", \"math\":80, \"english\":70}\n",
    "\n",
    "for i in a:\n",
    "    print(i)"
   ]
  },
  {
   "cell_type": "code",
   "execution_count": 7,
   "id": "5b10217e",
   "metadata": {},
   "outputs": [
    {
     "name": "stdout",
     "output_type": "stream",
     "text": [
      "0\n",
      "1\n",
      "2\n",
      "3\n",
      "4\n",
      "5\n",
      "6\n",
      "7\n",
      "8\n",
      "9\n"
     ]
    }
   ],
   "source": [
    "count = int(input(\"반복 횟수 : \"))\n",
    "\n",
    "for i in range(count):\n",
    "    print(i)"
   ]
  },
  {
   "cell_type": "code",
   "execution_count": 8,
   "id": "e196d658",
   "metadata": {},
   "outputs": [
    {
     "name": "stdout",
     "output_type": "stream",
     "text": [
      "0 1\n",
      "1 2\n",
      "2 3\n",
      "3 4\n",
      "4 5\n",
      "5 6\n",
      "6 7\n"
     ]
    }
   ],
   "source": [
    "a = [1, 2, 3, 4, 5, 6, 7]\n",
    "\n",
    "for i, v in enumerate(a):\n",
    "    print(i, v)"
   ]
  },
  {
   "cell_type": "code",
   "execution_count": 9,
   "id": "48017101",
   "metadata": {},
   "outputs": [
    {
     "name": "stdout",
     "output_type": "stream",
     "text": [
      "---------- 0\n",
      "j :  0\n",
      "j :  1\n",
      "j :  2\n",
      "j :  3\n",
      "j :  4\n",
      "---------- 1\n",
      "j :  0\n",
      "j :  1\n",
      "j :  2\n",
      "j :  3\n",
      "j :  4\n",
      "---------- 2\n",
      "j :  0\n",
      "j :  1\n",
      "j :  2\n",
      "j :  3\n",
      "j :  4\n",
      "---------- 3\n",
      "j :  0\n",
      "j :  1\n",
      "j :  2\n",
      "j :  3\n",
      "j :  4\n",
      "---------- 4\n",
      "j :  0\n",
      "j :  1\n",
      "j :  2\n",
      "j :  3\n",
      "j :  4\n"
     ]
    }
   ],
   "source": [
    "for i in range(0, 5):\n",
    "    print(\"-\"*10, i)\n",
    "    for j in range(0, 5):\n",
    "        print(\"j : \", j)"
   ]
  },
  {
   "cell_type": "code",
   "execution_count": null,
   "id": "abdb4ac6",
   "metadata": {},
   "outputs": [],
   "source": []
  }
 ],
 "metadata": {
  "kernelspec": {
   "display_name": "sesac_crawler1",
   "language": "python",
   "name": "python3"
  },
  "language_info": {
   "codemirror_mode": {
    "name": "ipython",
    "version": 3
   },
   "file_extension": ".py",
   "mimetype": "text/x-python",
   "name": "python",
   "nbconvert_exporter": "python",
   "pygments_lexer": "ipython3",
   "version": "3.6.13"
  }
 },
 "nbformat": 4,
 "nbformat_minor": 5
}
