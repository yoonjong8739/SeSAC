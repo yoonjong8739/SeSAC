{
 "cells": [
  {
   "cell_type": "markdown",
   "id": "bb2ef4b2",
   "metadata": {},
   "source": [
    "1. Car 클래스를 생성하시오.\n",
    "- 객체 생성 시 차 이름, 배기량, 생산년도 입력받고 인스턴스 속성으로 만들어주세요.\n",
    "- 차 이름, 배기량, 생산년도는 직접 변경 불가\n",
    "- 차 이름을 확인하는 함수와 변경하는 함수 생성\n",
    "- 배기량에 따라 1000cc보다 작으면 소형\n",
    "    - 1000cc 이상 2000cc 이하 중형\n",
    "    - 2000cc 보다 크면 대형을 출력하는 인스턴스 함수 생성\n",
    "- 객체 생성 시 마다 등록된 차량 댓수를 기록하는 클래스 속성 생성"
   ]
  },
  {
   "cell_type": "code",
   "execution_count": 19,
   "id": "a8f8d0b3",
   "metadata": {},
   "outputs": [],
   "source": [
    "class Car:\n",
    "    car_cnt = 0  # 클래스 속성\n",
    "    \n",
    "    # 생성자 함수\n",
    "    def __init__(self, name, cc, year):\n",
    "        self.__name = name\n",
    "        self.__cc = cc\n",
    "        self.__year = year\n",
    "        Car.car_cnt += 1\n",
    "    \n",
    "    # 차 이름 확인 메서드\n",
    "    def nameCheck(self):\n",
    "        print(\"해당 차 이름은 : {} 입니다.\".format(self.__name))\n",
    "        # return self.__name\n",
    "    \n",
    "    # 차 이름 변경 메서드\n",
    "    def nameChange(self, name):\n",
    "        self.__name = name\n",
    "        print(\"변경된 차 이름은 {} 입니다.\".format(self.__name))\n",
    "    \n",
    "    # 소형/중형/대형 자동차 구분 메서드\n",
    "    def carSize(self):\n",
    "        if 0 < self.__cc < 1000:\n",
    "            print(\"{} 차량은 소형차 입니다.\".format(self.__name))\n",
    "        elif 1000 <= self.__cc <= 2000:\n",
    "            print(\"{} 차량은 중형차 입니다.\".format(self.__name))\n",
    "        else:\n",
    "            print(\"{} 차량은 대형차 입니다.\".format(self.__name))"
   ]
  },
  {
   "cell_type": "code",
   "execution_count": 20,
   "id": "ccd6b45a",
   "metadata": {},
   "outputs": [],
   "source": [
    "car1 = Car(\"i30\", 1000, \"2014\")"
   ]
  },
  {
   "cell_type": "code",
   "execution_count": 21,
   "id": "85a5b861",
   "metadata": {},
   "outputs": [
    {
     "name": "stdout",
     "output_type": "stream",
     "text": [
      "해당 차 이름은 : i30 입니다.\n"
     ]
    }
   ],
   "source": [
    "car1.nameCheck()"
   ]
  },
  {
   "cell_type": "code",
   "execution_count": 22,
   "id": "dddb04d4",
   "metadata": {},
   "outputs": [
    {
     "name": "stdout",
     "output_type": "stream",
     "text": [
      "i30 차량은 중형차 입니다.\n"
     ]
    }
   ],
   "source": [
    "car1.carSize()"
   ]
  },
  {
   "cell_type": "code",
   "execution_count": 23,
   "id": "c86d52e6",
   "metadata": {},
   "outputs": [
    {
     "name": "stdout",
     "output_type": "stream",
     "text": [
      "변경된 차 이름은 마티즈 입니다.\n"
     ]
    }
   ],
   "source": [
    "car1.nameChange(\"마티즈\")"
   ]
  },
  {
   "cell_type": "markdown",
   "id": "3fc99315",
   "metadata": {},
   "source": [
    "2. Character 클래스를 만들어 주세요.\n",
    "- Character 클래스에 Health 속성을 추가. 생성 시 200\n",
    "- Character 클래스에 Move 메서드를 추가. 메서드 사용 시 Health -10\n",
    "- Character 클래스에 Rest 메서드를 추가. 메서드 사용 시 Health +10\n",
    "- 현재 Health 상태를 확인하는 checkHealth 메서드 추가.\n",
    "\n",
    "- (별첨) Knight와 Healer 클래스 생성\n",
    "    - Knight와 Healer 클래스는 Character 클래스를 상속함.\n",
    "    - Knight 클래스는 Move 사용 시 Healer 가 -5를 더 소모.\n",
    "    - Knight 클래스는 Attack 메서드를 추가하고 실행 시 공격합니다. 를 출력\n",
    "    - Healer 클래스는 Mana 속성 추가. 생성 시 100\n",
    "    - Healer 클래스는 heal(Character) 메서드 추가. 메서드는 Character 들을 매개변수로 받음.\n",
    "    - Healer 클래스는 heal(Character) 메서드 실행 시 Mana 가 -10 되고 전달받은 Character 객체의 Rest 메서드를 실행\n",
    "    - Healer 클래스는 guswo Mana 속성을 확인할 수 있는 checkMana 메서드 추가."
   ]
  },
  {
   "cell_type": "code",
   "execution_count": 24,
   "id": "e51fbb8a",
   "metadata": {},
   "outputs": [],
   "source": [
    "# 부모 클래스 생성\n",
    "class Character:\n",
    "    def __init__(self):\n",
    "        self.Health = 200\n",
    "    \n",
    "    def Move(self):\n",
    "        self.Health -= 10\n",
    "    \n",
    "    def Rest(self):\n",
    "        self.Health += 10\n",
    "    \n",
    "    def checkHealth(self):\n",
    "        print(\"현재 건강상태는 {} 입니다.\".format(self.Health))\n",
    "        # return self.Health\n",
    "\n",
    "# 자식 클래스 생성\n",
    "class Knight(Character):\n",
    "    def __init__(self):\n",
    "        super().__init__()\n",
    "    \n",
    "    def Move(self):\n",
    "        super().Move()\n",
    "        self.Health -= 5\n",
    "    \n",
    "    def Attack(self):\n",
    "        print(\"공격합니다.\")\n",
    "\n",
    "class Healer(Character):\n",
    "    def __init__(self):\n",
    "        super().__init__()\n",
    "        self.Mana = 100\n",
    "    \n",
    "    def Heal(self, character):\n",
    "        character.Rest()\n",
    "        self.Mana -= 10\n",
    "    \n",
    "    def checkMana(self):\n",
    "        print(\"현재 Healer의 Mana 상태는 {} 입니다.\".format(self.Mana))"
   ]
  },
  {
   "cell_type": "code",
   "execution_count": 25,
   "id": "c5031ac7",
   "metadata": {},
   "outputs": [],
   "source": [
    "knight = Knight()\n",
    "healer = Healer()"
   ]
  },
  {
   "cell_type": "code",
   "execution_count": 26,
   "id": "94cb7406",
   "metadata": {},
   "outputs": [
    {
     "name": "stdout",
     "output_type": "stream",
     "text": [
      "현재 건강상태는 200 입니다.\n"
     ]
    }
   ],
   "source": [
    "knight.checkHealth()  # 현재 상태 : 200"
   ]
  },
  {
   "cell_type": "code",
   "execution_count": 27,
   "id": "7ce3e505",
   "metadata": {},
   "outputs": [
    {
     "name": "stdout",
     "output_type": "stream",
     "text": [
      "공격합니다.\n"
     ]
    }
   ],
   "source": [
    "knight.Attack()  # 공격 -> 현재 상태 : 200"
   ]
  },
  {
   "cell_type": "code",
   "execution_count": 28,
   "id": "69828f0d",
   "metadata": {},
   "outputs": [],
   "source": [
    "knight.Move()  # 이동 -> 현재 상태 : 185(200 - 10 - 5) "
   ]
  },
  {
   "cell_type": "code",
   "execution_count": 29,
   "id": "9d4b8f79",
   "metadata": {},
   "outputs": [
    {
     "name": "stdout",
     "output_type": "stream",
     "text": [
      "현재 건강상태는 185 입니다.\n"
     ]
    }
   ],
   "source": [
    "knight.checkHealth()  # 현재 상태 : 185"
   ]
  },
  {
   "cell_type": "code",
   "execution_count": 30,
   "id": "af2017d9",
   "metadata": {},
   "outputs": [
    {
     "name": "stdout",
     "output_type": "stream",
     "text": [
      "현재 건강상태는 200 입니다.\n"
     ]
    }
   ],
   "source": [
    "healer.checkHealth()  # 현재 상태 : 200"
   ]
  },
  {
   "cell_type": "code",
   "execution_count": 31,
   "id": "d63db4d3",
   "metadata": {},
   "outputs": [],
   "source": [
    "healer.Move()  # 이동 -> 현재 상태 : 190"
   ]
  },
  {
   "cell_type": "code",
   "execution_count": 32,
   "id": "9b97fc3e",
   "metadata": {},
   "outputs": [
    {
     "name": "stdout",
     "output_type": "stream",
     "text": [
      "현재 Healer의 Mana 상태는 100 입니다.\n"
     ]
    }
   ],
   "source": [
    "healer.checkMana()  # Mana 상태 : 100"
   ]
  },
  {
   "cell_type": "code",
   "execution_count": 33,
   "id": "ff08d531",
   "metadata": {},
   "outputs": [],
   "source": [
    "healer.Heal(knight)  # Mana 상태 : 100 - 10"
   ]
  },
  {
   "cell_type": "code",
   "execution_count": 34,
   "id": "4f1c4235",
   "metadata": {},
   "outputs": [
    {
     "name": "stdout",
     "output_type": "stream",
     "text": [
      "현재 Healer의 Mana 상태는 90 입니다.\n"
     ]
    }
   ],
   "source": [
    "healer.checkMana()  # Mana 상태 : 90"
   ]
  },
  {
   "cell_type": "code",
   "execution_count": 35,
   "id": "2e0b1045",
   "metadata": {},
   "outputs": [
    {
     "name": "stdout",
     "output_type": "stream",
     "text": [
      "현재 건강상태는 195 입니다.\n"
     ]
    }
   ],
   "source": [
    "knight.checkHealth()  # 현재 상태 : 195"
   ]
  },
  {
   "cell_type": "code",
   "execution_count": null,
   "id": "7891da5f",
   "metadata": {},
   "outputs": [],
   "source": []
  }
 ],
 "metadata": {
  "kernelspec": {
   "display_name": "sesac_crawler1",
   "language": "python",
   "name": "python3"
  },
  "language_info": {
   "codemirror_mode": {
    "name": "ipython",
    "version": 3
   },
   "file_extension": ".py",
   "mimetype": "text/x-python",
   "name": "python",
   "nbconvert_exporter": "python",
   "pygments_lexer": "ipython3",
   "version": "3.6.13"
  }
 },
 "nbformat": 4,
 "nbformat_minor": 5
}
