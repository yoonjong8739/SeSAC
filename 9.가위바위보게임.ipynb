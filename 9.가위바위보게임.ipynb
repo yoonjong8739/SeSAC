{
 "cells": [
  {
   "cell_type": "markdown",
   "id": "7eddd1fd",
   "metadata": {},
   "source": [
    "가위바위보 게임"
   ]
  },
  {
   "cell_type": "code",
   "execution_count": 1,
   "id": "5334ef57",
   "metadata": {},
   "outputs": [
    {
     "data": {
      "text/plain": [
       "0.7349966634842771"
      ]
     },
     "execution_count": 1,
     "metadata": {},
     "output_type": "execute_result"
    }
   ],
   "source": [
    "import random\n",
    "random.random()"
   ]
  },
  {
   "cell_type": "code",
   "execution_count": null,
   "id": "dcb40f63",
   "metadata": {},
   "outputs": [
    {
     "data": {
      "text/plain": [
       "3"
      ]
     },
     "execution_count": 2,
     "metadata": {},
     "output_type": "execute_result"
    }
   ],
   "source": [
    "random.randint(1, 3)  # 1~3 중 랜덤으로 1개 출력"
   ]
  },
  {
   "cell_type": "code",
   "execution_count": 6,
   "id": "6046636d",
   "metadata": {},
   "outputs": [
    {
     "name": "stdout",
     "output_type": "stream",
     "text": [
      "user : 가위, computer : 가위\n",
      "무승부\n",
      "user : 바위, computer : 바위\n",
      "무승부\n",
      "user : 보, computer : 바위\n",
      "승리\n",
      "게임 종료 (전체 3, 승리 1, 패배 0, 무승부 2)\n"
     ]
    }
   ],
   "source": [
    "select = [\"\", \"가위\", \"바위\", \"보\"]\n",
    "\n",
    "total = 0\n",
    "win = 0\n",
    "loss = 0\n",
    "tie = 0\n",
    "\n",
    "while True:\n",
    "    user = int(input(\"가위(1), 바위(2), 보(3)를 입력해주세요 : \"))\n",
    "    computer = random.randint(1, 3)\n",
    "\n",
    "    if not (1 <= user <= 3):\n",
    "        break\n",
    "\n",
    "    print(\"user : {}, computer : {}\".format(select[user], select[computer]))\n",
    "\n",
    "    if (user == 1 and computer == 3) or (user == 2 and computer == 1) or (user == 3 and computer == 2):\n",
    "        win += 1\n",
    "        print(\"승리\")\n",
    "        \n",
    "    elif (user == 1 and computer == 1) or (user == 2 and computer == 2) or (user == 3 and computer == 3):\n",
    "        tie += 1\n",
    "        print(\"무승부\")\n",
    "    else:\n",
    "        loss += 1\n",
    "        print(\"패배\")\n",
    "    total += 1\n",
    "\n",
    "print(\"게임 종료 (전체 {}, 승리 {}, 패배 {}, 무승부 {})\".format(total, win, loss, tie))"
   ]
  },
  {
   "cell_type": "code",
   "execution_count": null,
   "id": "342e1d93",
   "metadata": {},
   "outputs": [],
   "source": []
  }
 ],
 "metadata": {
  "kernelspec": {
   "display_name": "sesac_crawler1",
   "language": "python",
   "name": "python3"
  },
  "language_info": {
   "codemirror_mode": {
    "name": "ipython",
    "version": 3
   },
   "file_extension": ".py",
   "mimetype": "text/x-python",
   "name": "python",
   "nbconvert_exporter": "python",
   "pygments_lexer": "ipython3",
   "version": "3.6.13"
  }
 },
 "nbformat": 4,
 "nbformat_minor": 5
}
