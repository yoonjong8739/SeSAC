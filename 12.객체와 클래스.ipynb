{
 "cells": [
  {
   "cell_type": "markdown",
   "id": "a53a10e0",
   "metadata": {},
   "source": [
    "객체와 클래스"
   ]
  },
  {
   "cell_type": "markdown",
   "id": "eb6ac4b2",
   "metadata": {},
   "source": [
    "- 객체 : 속성(변수)과 행동(함수) 으로 구성된 대상\n",
    "- 클래스 : 객체를 만들기 위한 문법"
   ]
  },
  {
   "cell_type": "code",
   "execution_count": null,
   "id": "5ec625af",
   "metadata": {},
   "outputs": [],
   "source": [
    "class Dog:\n",
    "    # 생성자 함수\n",
    "    def __init__(self, name, color):\n",
    "        self.hungry = 0     # 인스턴스 속성1\n",
    "        self.name = name    # 인스턴스 속성2\n",
    "        self.color = color  # 인스턴스 속성3\n",
    "    \n",
    "    # 인스턴스 메서드\n",
    "    def eat(self):\n",
    "        self.hungry -= 10\n",
    "        print(\"밥 먹음\", self.hungry)\n",
    "    \n",
    "    def walk(self):\n",
    "        self.hungry += 10\n",
    "        print(\"산책 중\", self.hungry)"
   ]
  },
  {
   "cell_type": "code",
   "execution_count": null,
   "id": "daf2e467",
   "metadata": {},
   "outputs": [],
   "source": [
    "choco = Dog(\"choco\", \"Black\")  # 객체 생성1\n",
    "jjomg = Dog(\"jjong\", \"white\")  # 객체 생성2"
   ]
  },
  {
   "cell_type": "code",
   "execution_count": 3,
   "id": "ce8f4136",
   "metadata": {},
   "outputs": [
    {
     "name": "stdout",
     "output_type": "stream",
     "text": [
      "밥 먹음 -10\n"
     ]
    }
   ],
   "source": [
    "choco.eat()"
   ]
  },
  {
   "cell_type": "code",
   "execution_count": 4,
   "id": "4130cea3",
   "metadata": {},
   "outputs": [
    {
     "data": {
      "text/plain": [
       "-10"
      ]
     },
     "execution_count": 4,
     "metadata": {},
     "output_type": "execute_result"
    }
   ],
   "source": [
    "choco.hungry"
   ]
  },
  {
   "cell_type": "code",
   "execution_count": 5,
   "id": "97049805",
   "metadata": {},
   "outputs": [
    {
     "name": "stdout",
     "output_type": "stream",
     "text": [
      "밥 먹음 -10\n"
     ]
    }
   ],
   "source": [
    "jjomg.eat()"
   ]
  },
  {
   "cell_type": "code",
   "execution_count": 6,
   "id": "3c4c9f45",
   "metadata": {},
   "outputs": [
    {
     "data": {
      "text/plain": [
       "-10"
      ]
     },
     "execution_count": 6,
     "metadata": {},
     "output_type": "execute_result"
    }
   ],
   "source": [
    "jjomg.hungry"
   ]
  },
  {
   "cell_type": "code",
   "execution_count": 7,
   "id": "36384303",
   "metadata": {},
   "outputs": [
    {
     "name": "stdout",
     "output_type": "stream",
     "text": [
      "산책 중 0\n"
     ]
    }
   ],
   "source": [
    "choco.walk()"
   ]
  },
  {
   "cell_type": "code",
   "execution_count": 8,
   "id": "bf0ab8b7",
   "metadata": {},
   "outputs": [
    {
     "name": "stdout",
     "output_type": "stream",
     "text": [
      "산책 중 0\n"
     ]
    }
   ],
   "source": [
    "jjomg.walk()"
   ]
  },
  {
   "cell_type": "code",
   "execution_count": 9,
   "id": "4ba5da1b",
   "metadata": {},
   "outputs": [
    {
     "name": "stdout",
     "output_type": "stream",
     "text": [
      "0 0\n"
     ]
    }
   ],
   "source": [
    "print(choco.hungry, jjomg.hungry)"
   ]
  },
  {
   "cell_type": "markdown",
   "id": "90caa6c0",
   "metadata": {},
   "source": [
    "비공개 속성(캡슐화)\n",
    "- 외부에서 속성에 접근하지 못하게 차단"
   ]
  },
  {
   "cell_type": "code",
   "execution_count": 10,
   "id": "adcad1a0",
   "metadata": {},
   "outputs": [],
   "source": [
    "class Dog:\n",
    "    def __init__(self, name, color):\n",
    "        self.__hungry = 0  # 비공개 상태(캡슐화)\n",
    "        self.name = name\n",
    "        self.color = color\n",
    "    \n",
    "    def eat(self):\n",
    "        if self.__hungry <= 0:\n",
    "            print(\"배가 고프지 않습니다.\")\n",
    "        else:\n",
    "            self.__hungry -= 10\n",
    "            print(\"밥 먹음\", self.__hungry)\n",
    "    \n",
    "    def walk(self):\n",
    "        self.__hungry += 10\n",
    "        print(\"산책 중\", self.__hungry)\n",
    "    \n",
    "    def condition(self):\n",
    "        print(\"{} 강아지 배고픔 상태 : {}\".format(self.name, self.__hungry))"
   ]
  },
  {
   "cell_type": "code",
   "execution_count": 11,
   "id": "dd220fa6",
   "metadata": {},
   "outputs": [],
   "source": [
    "mery = Dog(\"Mery\", \"White\")  # 객체 생성"
   ]
  },
  {
   "cell_type": "code",
   "execution_count": 12,
   "id": "210f1e47",
   "metadata": {},
   "outputs": [
    {
     "data": {
      "text/plain": [
       "'Mery'"
      ]
     },
     "execution_count": 12,
     "metadata": {},
     "output_type": "execute_result"
    }
   ],
   "source": [
    "mery.name"
   ]
  },
  {
   "cell_type": "code",
   "execution_count": 13,
   "id": "0c4ab359",
   "metadata": {},
   "outputs": [
    {
     "data": {
      "text/plain": [
       "'White'"
      ]
     },
     "execution_count": 13,
     "metadata": {},
     "output_type": "execute_result"
    }
   ],
   "source": [
    "mery.color"
   ]
  },
  {
   "cell_type": "code",
   "execution_count": 16,
   "id": "ca9c0b2a",
   "metadata": {},
   "outputs": [
    {
     "name": "stdout",
     "output_type": "stream",
     "text": [
      "-10\n"
     ]
    }
   ],
   "source": [
    "mery.__hungry = -10\n",
    "print(mery.__hungry)"
   ]
  },
  {
   "cell_type": "code",
   "execution_count": 23,
   "id": "7ff14fbe",
   "metadata": {},
   "outputs": [
    {
     "name": "stdout",
     "output_type": "stream",
     "text": [
      "밥 먹음 0\n"
     ]
    }
   ],
   "source": [
    "mery.eat()"
   ]
  },
  {
   "cell_type": "code",
   "execution_count": 28,
   "id": "f1da6f53",
   "metadata": {},
   "outputs": [
    {
     "name": "stdout",
     "output_type": "stream",
     "text": [
      "산책 중 30\n"
     ]
    }
   ],
   "source": [
    "mery.walk()"
   ]
  },
  {
   "cell_type": "code",
   "execution_count": 29,
   "id": "dbbf1feb",
   "metadata": {},
   "outputs": [
    {
     "name": "stdout",
     "output_type": "stream",
     "text": [
      "Mery 강아지 배고픔 상태 : 30\n"
     ]
    }
   ],
   "source": [
    "mery.condition()"
   ]
  },
  {
   "cell_type": "code",
   "execution_count": null,
   "id": "de0023fc",
   "metadata": {},
   "outputs": [
    {
     "name": "stdout",
     "output_type": "stream",
     "text": [
      "-10\n"
     ]
    }
   ],
   "source": [
    "print(mery.__hungry)  # 위에서 -10으로 할당했지만 반영되지 않았음."
   ]
  },
  {
   "cell_type": "markdown",
   "id": "26912f52",
   "metadata": {},
   "source": [
    "클래스 속성\n",
    "- 모든 객체가 공유하는 속성\n",
    "- 객체 없이 클래스명으로 접근 가능"
   ]
  },
  {
   "cell_type": "code",
   "execution_count": null,
   "id": "1c0b3405",
   "metadata": {},
   "outputs": [],
   "source": [
    "class Dog:\n",
    "    # 클래스 속성\n",
    "    dog_count = 0\n",
    "    \n",
    "    def __init__(self, name, color):\n",
    "        self.name = name\n",
    "        self.color = color\n",
    "        Dog.dog_count += 1\n",
    "    \n",
    "    def dogCount(self):\n",
    "        print(\"총 강아지는 {} 마리\".format(Dog.dog_count))"
   ]
  },
  {
   "cell_type": "code",
   "execution_count": 32,
   "id": "83c59438",
   "metadata": {},
   "outputs": [],
   "source": [
    "tom = Dog(\"Tom\", \"Green\")"
   ]
  },
  {
   "cell_type": "code",
   "execution_count": 35,
   "id": "605d7c8d",
   "metadata": {},
   "outputs": [
    {
     "name": "stdout",
     "output_type": "stream",
     "text": [
      "Green\n",
      "Tom\n",
      "총 강아지는 1 마리\n"
     ]
    }
   ],
   "source": [
    "print(tom.color)\n",
    "print(tom.name)\n",
    "tom.dogCount()"
   ]
  },
  {
   "cell_type": "code",
   "execution_count": 36,
   "id": "cfd222d6",
   "metadata": {},
   "outputs": [],
   "source": [
    "happy = Dog(\"Happy\", \"Yellow\")"
   ]
  },
  {
   "cell_type": "code",
   "execution_count": 37,
   "id": "d1da4eca",
   "metadata": {},
   "outputs": [
    {
     "name": "stdout",
     "output_type": "stream",
     "text": [
      "Happy\n",
      "Yellow\n",
      "총 강아지는 2 마리\n"
     ]
    }
   ],
   "source": [
    "print(happy.name)\n",
    "print(happy.color)\n",
    "happy.dogCount()"
   ]
  },
  {
   "cell_type": "markdown",
   "id": "cc7ff805",
   "metadata": {},
   "source": [
    "클래스 상속\n",
    "- 상속 : 공통되는 내용은 부모 클래스로 만들고 자식을 만들 때 공통되는 내용을 부모 클래스로부터 상속받음"
   ]
  },
  {
   "cell_type": "code",
   "execution_count": 39,
   "id": "aac2f4c9",
   "metadata": {},
   "outputs": [],
   "source": [
    "# 부모 클래스 생성\n",
    "class Animal:\n",
    "    def __init__(self):\n",
    "        self.__hungry = 0\n",
    "    def eat(self):\n",
    "        self.__hungry -= 10\n",
    "        print(\"밥 먹음\", self.__hungry)\n",
    "    def walk(self):\n",
    "        self.__hungry += 10\n",
    "        print(\"산책 중\", self.__hungry)\n",
    "\n",
    "# 자식 클래스 생성\n",
    "class Dog(Animal):  # 부모 클래스명 입력\n",
    "    def __init__(self, name, color):\n",
    "        super().__init__()  # 부모 클래스 상속\n",
    "        self.name = name\n",
    "        self.color = color\n",
    "    def sound(self):\n",
    "        print(\"멍멍!!\")\n",
    "\n",
    "class Cat(Animal):\n",
    "    def __init__(self, name, color):\n",
    "        super().__init__()  # 부모 클래스 상속\n",
    "        self.name = name\n",
    "        self.color = color\n",
    "    def sound(self):\n",
    "        print(\"야옹~\")"
   ]
  },
  {
   "cell_type": "code",
   "execution_count": 40,
   "id": "b4d14c61",
   "metadata": {},
   "outputs": [],
   "source": [
    "alice = Dog(\"Alic\", \"White\")\n",
    "mark = Cat(\"Mark\", \"Gray\")"
   ]
  },
  {
   "cell_type": "code",
   "execution_count": 41,
   "id": "b2415277",
   "metadata": {},
   "outputs": [
    {
     "name": "stdout",
     "output_type": "stream",
     "text": [
      "Alic\n",
      "White\n",
      "멍멍!!\n"
     ]
    }
   ],
   "source": [
    "print(alice.name)\n",
    "print(alice.color)\n",
    "alice.sound()"
   ]
  },
  {
   "cell_type": "code",
   "execution_count": 43,
   "id": "c4c4fcef",
   "metadata": {},
   "outputs": [
    {
     "name": "stdout",
     "output_type": "stream",
     "text": [
      "밥 먹음 -10\n"
     ]
    }
   ],
   "source": [
    "alice.eat()"
   ]
  },
  {
   "cell_type": "code",
   "execution_count": 44,
   "id": "4cb45675",
   "metadata": {},
   "outputs": [
    {
     "name": "stdout",
     "output_type": "stream",
     "text": [
      "산책 중 0\n"
     ]
    }
   ],
   "source": [
    "alice.walk()"
   ]
  },
  {
   "cell_type": "code",
   "execution_count": 45,
   "id": "1438f12e",
   "metadata": {},
   "outputs": [
    {
     "name": "stdout",
     "output_type": "stream",
     "text": [
      "Mark\n",
      "Gray\n",
      "야옹~\n",
      "밥 먹음 -10\n",
      "산책 중 0\n"
     ]
    }
   ],
   "source": [
    "print(mark.name)\n",
    "print(mark.color)\n",
    "mark.sound()\n",
    "mark.eat()\n",
    "mark.walk()"
   ]
  },
  {
   "cell_type": "markdown",
   "id": "75556bc2",
   "metadata": {},
   "source": [
    "오버라이딩\n",
    "- 부모의 기능을 물려받고 일부 기능 수정"
   ]
  },
  {
   "cell_type": "code",
   "execution_count": 46,
   "id": "ef05beb7",
   "metadata": {},
   "outputs": [],
   "source": [
    "# 부모 클래스 생성\n",
    "class Animal:\n",
    "    def __init__(self):\n",
    "        self.__hungry = 0\n",
    "    def eat(self):\n",
    "        self.__hungry -= 10\n",
    "        print(\"밥 먹음\", self.__hungry)\n",
    "    def walk(self):\n",
    "        self.__hungry += 10\n",
    "        print(\"산책 중\", self.__hungry)\n",
    "\n",
    "# 자식 클래스 생성\n",
    "class Dog(Animal):  # 부모 클래스명 입력\n",
    "    def __init__(self, name, color):\n",
    "        super().__init__()  # 부모 클래스 상속\n",
    "        self.name = name\n",
    "        self.color = color\n",
    "    def eat(self):\n",
    "        super().eat()  # 부모 메서드 상속\n",
    "        print(\"밥 먹었다 멍!!!\")  # 자식 메서드\n",
    "    def sound(self):\n",
    "        print(\"멍멍!!\")\n",
    "\n",
    "class Cat(Animal):\n",
    "    def __init__(self, name, color):\n",
    "        super().__init__()  # 부모 클래스 상속\n",
    "        self.name = name\n",
    "        self.color = color\n",
    "    def eat(self):\n",
    "        super().eat()  # 부모 메서드 상속\n",
    "        print(\"밥 먹었다 냥~~\")  # 자식 메서드\n",
    "    def sound(self):\n",
    "        print(\"야옹~\")"
   ]
  },
  {
   "cell_type": "code",
   "execution_count": 48,
   "id": "b469c2b8",
   "metadata": {},
   "outputs": [
    {
     "name": "stdout",
     "output_type": "stream",
     "text": [
      "밥 먹음 -10\n",
      "밥 먹었다 멍!!!\n"
     ]
    }
   ],
   "source": [
    "dog = Dog(\"Bow\", \"Dotted\")\n",
    "dog.eat()"
   ]
  },
  {
   "cell_type": "code",
   "execution_count": 49,
   "id": "04dd02f7",
   "metadata": {},
   "outputs": [
    {
     "name": "stdout",
     "output_type": "stream",
     "text": [
      "밥 먹음 -10\n",
      "밥 먹었다 냥~~\n"
     ]
    }
   ],
   "source": [
    "cat = Cat(\"Miew\", \"Orange\")\n",
    "cat.eat()"
   ]
  },
  {
   "cell_type": "code",
   "execution_count": null,
   "id": "18b6f1dd",
   "metadata": {},
   "outputs": [],
   "source": []
  }
 ],
 "metadata": {
  "kernelspec": {
   "display_name": "sesac_crawler1",
   "language": "python",
   "name": "python3"
  },
  "language_info": {
   "codemirror_mode": {
    "name": "ipython",
    "version": 3
   },
   "file_extension": ".py",
   "mimetype": "text/x-python",
   "name": "python",
   "nbconvert_exporter": "python",
   "pygments_lexer": "ipython3",
   "version": "3.6.13"
  }
 },
 "nbformat": 4,
 "nbformat_minor": 5
}
