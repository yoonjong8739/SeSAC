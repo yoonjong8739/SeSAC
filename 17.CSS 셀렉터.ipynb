{
 "cells": [
  {
   "cell_type": "markdown",
   "id": "cc624075",
   "metadata": {},
   "source": [
    "CSS 셀렉터를 활용한 크롤링"
   ]
  },
  {
   "cell_type": "code",
   "execution_count": 1,
   "id": "d73ce473",
   "metadata": {},
   "outputs": [],
   "source": [
    "import requests\n",
    "from bs4 import BeautifulSoup"
   ]
  },
  {
   "cell_type": "code",
   "execution_count": 2,
   "id": "75e3a602",
   "metadata": {},
   "outputs": [],
   "source": [
    "URL = \"https://crawlingstudy-dd3c9.web.app/02/\"\n",
    "response = requests.get(URL)\n",
    "soup = BeautifulSoup(response.text, \"html.parser\")"
   ]
  },
  {
   "cell_type": "code",
   "execution_count": 3,
   "id": "330b353b",
   "metadata": {},
   "outputs": [
    {
     "name": "stdout",
     "output_type": "stream",
     "text": [
      "[<div class=\"bold blue\" id=\"title\">\n",
      "        안녕하세요 \n",
      "    </div>]\n"
     ]
    }
   ],
   "source": [
    "result = soup.select(\"#title\")\n",
    "print(result)"
   ]
  },
  {
   "cell_type": "code",
   "execution_count": 4,
   "id": "8c9a3b59",
   "metadata": {},
   "outputs": [
    {
     "name": "stdout",
     "output_type": "stream",
     "text": [
      "<div class=\"bold blue\" id=\"title\">\n",
      "        안녕하세요 \n",
      "    </div>\n"
     ]
    }
   ],
   "source": [
    "result = soup.select_one(\"#title\")\n",
    "print(result)"
   ]
  },
  {
   "cell_type": "code",
   "execution_count": 5,
   "id": "3034397b",
   "metadata": {},
   "outputs": [
    {
     "name": "stdout",
     "output_type": "stream",
     "text": [
      "\n",
      "        안녕하세요 \n",
      "    \n"
     ]
    }
   ],
   "source": [
    "result = soup.select(\"#title\")\n",
    "print(result[0].text)"
   ]
  },
  {
   "cell_type": "code",
   "execution_count": 6,
   "id": "38f92ef2",
   "metadata": {},
   "outputs": [
    {
     "name": "stdout",
     "output_type": "stream",
     "text": [
      "[<title>크롤링 연습사이트 02</title>]\n"
     ]
    }
   ],
   "source": [
    "result = soup.select(\"title\")\n",
    "print(result)"
   ]
  },
  {
   "cell_type": "code",
   "execution_count": 7,
   "id": "430056b6",
   "metadata": {},
   "outputs": [
    {
     "name": "stdout",
     "output_type": "stream",
     "text": [
      "[<div class=\"bold blue\" id=\"title\">\n",
      "        안녕하세요 \n",
      "    </div>, <div class=\"bold\" id=\"content\">\n",
      "<ul>\n",
      "<li>첫번쨰리스트</li>\n",
      "<li class=\"blue\">두번째리스트</li>\n",
      "<li class=\"blue\">세번째리스트</li>\n",
      "<li>네번째리스트</li>\n",
      "</ul>\n",
      "</div>, <div id=\"winter\">\n",
      "<p>온세상이 떨릴듯</p>\n",
      "<p class=\"blue\">두근거리고 <span>익숙한 듯 편안해</span></p>\n",
      "<div>\n",
      "<p>네가 느껴져</p>\n",
      "<p class=\"blue\">오래된 친구같아</p>\n",
      "<span>안녕하세요!</span>\n",
      "</div>\n",
      "</div>, <div>\n",
      "<p>네가 느껴져</p>\n",
      "<p class=\"blue\">오래된 친구같아</p>\n",
      "<span>안녕하세요!</span>\n",
      "</div>]\n"
     ]
    }
   ],
   "source": [
    "result = soup.select(\"div\")\n",
    "print(result)"
   ]
  },
  {
   "cell_type": "code",
   "execution_count": 8,
   "id": "558417d8",
   "metadata": {},
   "outputs": [
    {
     "name": "stdout",
     "output_type": "stream",
     "text": [
      "<div class=\"bold blue\" id=\"title\">\n",
      "        안녕하세요 \n",
      "    </div>\n"
     ]
    }
   ],
   "source": [
    "result = soup.select_one(\"div\")\n",
    "print(result)"
   ]
  },
  {
   "cell_type": "code",
   "execution_count": 9,
   "id": "f45bd4b1",
   "metadata": {},
   "outputs": [
    {
     "name": "stdout",
     "output_type": "stream",
     "text": [
      "[<div class=\"bold\" id=\"content\">\n",
      "<ul>\n",
      "<li>첫번쨰리스트</li>\n",
      "<li class=\"blue\">두번째리스트</li>\n",
      "<li class=\"blue\">세번째리스트</li>\n",
      "<li>네번째리스트</li>\n",
      "</ul>\n",
      "</div>]\n"
     ]
    }
   ],
   "source": [
    "result = soup.select(\"#content\")\n",
    "print(result)"
   ]
  },
  {
   "cell_type": "code",
   "execution_count": 12,
   "id": "95ee996c",
   "metadata": {},
   "outputs": [
    {
     "name": "stdout",
     "output_type": "stream",
     "text": [
      "\n",
      "        안녕하세요 \n",
      "    \n",
      "두번째리스트\n",
      "세번째리스트\n",
      "두근거리고 익숙한 듯 편안해\n",
      "오래된 친구같아\n"
     ]
    }
   ],
   "source": [
    "result = soup.select(\".blue\")\n",
    "\n",
    "for r in result:\n",
    "    print(r.text)"
   ]
  },
  {
   "cell_type": "code",
   "execution_count": 13,
   "id": "f2005bd8",
   "metadata": {},
   "outputs": [
    {
     "name": "stdout",
     "output_type": "stream",
     "text": [
      "\n",
      "        안녕하세요 \n",
      "    \n",
      "\n",
      "\n",
      "첫번쨰리스트\n",
      "두번째리스트\n",
      "세번째리스트\n",
      "네번째리스트\n",
      "\n",
      "\n"
     ]
    }
   ],
   "source": [
    "result = soup.select(\".bold\")\n",
    "\n",
    "for r in result:\n",
    "    print(r.text)"
   ]
  },
  {
   "cell_type": "code",
   "execution_count": 14,
   "id": "c33794a1",
   "metadata": {},
   "outputs": [
    {
     "name": "stdout",
     "output_type": "stream",
     "text": [
      "\n",
      "        안녕하세요 \n",
      "    \n"
     ]
    }
   ],
   "source": [
    "result = soup.select(\".bold.blue\")  # class가 둘 다 있는 요소 선택\n",
    "\n",
    "for r in result:\n",
    "    print(r.text)"
   ]
  },
  {
   "cell_type": "code",
   "execution_count": 15,
   "id": "4152c020",
   "metadata": {},
   "outputs": [
    {
     "name": "stdout",
     "output_type": "stream",
     "text": [
      "\n",
      "        안녕하세요 \n",
      "    \n"
     ]
    }
   ],
   "source": [
    "result = soup.select(\"#title.bold.blue\")\n",
    "\n",
    "for r in result:\n",
    "    print(r.text)"
   ]
  },
  {
   "cell_type": "code",
   "execution_count": 16,
   "id": "f5349463",
   "metadata": {},
   "outputs": [
    {
     "name": "stdout",
     "output_type": "stream",
     "text": [
      "\n",
      "        안녕하세요 \n",
      "    \n"
     ]
    }
   ],
   "source": [
    "result = soup.select(\"div#title.bold.blue\")\n",
    "\n",
    "for r in result:\n",
    "    print(r.text)"
   ]
  },
  {
   "cell_type": "markdown",
   "id": "b9fa8cff",
   "metadata": {},
   "source": [
    "속성 셀렉터\n",
    "- selector[attribute = ~=\"값\"] : 해당 단어를 포함\n",
    "- selector[attribute = ^=\"값\"] : 해당 값으로 시작\n",
    "- selector[attribute = $=\"값\"] : 해당 값으로 끝나는 단어를 포함\n",
    "- selector[attribute = *=\"값\"] : 해당 값을 포함"
   ]
  },
  {
   "cell_type": "code",
   "execution_count": 17,
   "id": "bb7f5979",
   "metadata": {},
   "outputs": [
    {
     "name": "stdout",
     "output_type": "stream",
     "text": [
      "<a href=\"http://naver.com\" target=\"_blank\">네이버</a>\n",
      "<a href=\"http://daum.net\" target=\"_self\">다음</a>\n",
      "<a href=\"http://google.com\" target=\"_self\">구글</a>\n"
     ]
    }
   ],
   "source": [
    "result = soup.select(\"a[href]\")\n",
    "\n",
    "for r in result:\n",
    "    print(r)"
   ]
  },
  {
   "cell_type": "code",
   "execution_count": 18,
   "id": "1fd92c5c",
   "metadata": {},
   "outputs": [
    {
     "name": "stdout",
     "output_type": "stream",
     "text": [
      "<a href=\"http://naver.com\" target=\"_blank\">네이버</a>\n"
     ]
    }
   ],
   "source": [
    "result = soup.select(\"a[target='_blank']\")\n",
    "\n",
    "for r in result:\n",
    "    print(r)"
   ]
  },
  {
   "cell_type": "code",
   "execution_count": 19,
   "id": "679eaf96",
   "metadata": {},
   "outputs": [
    {
     "name": "stdout",
     "output_type": "stream",
     "text": [
      "<a href=\"http://naver.com\" target=\"_blank\">네이버</a>\n",
      "<a href=\"http://google.com\" target=\"_self\">구글</a>\n"
     ]
    }
   ],
   "source": [
    "result = soup.select(\"a[href $= '.com']\")\n",
    "\n",
    "for r in result:\n",
    "    print(r)"
   ]
  },
  {
   "cell_type": "code",
   "execution_count": 20,
   "id": "1596f7ed",
   "metadata": {},
   "outputs": [
    {
     "name": "stdout",
     "output_type": "stream",
     "text": [
      "<a href=\"http://daum.net\" target=\"_self\">다음</a>\n"
     ]
    }
   ],
   "source": [
    "result = soup.select(\"a[href $= '.net']\")\n",
    "\n",
    "for r in result:\n",
    "    print(r)"
   ]
  },
  {
   "cell_type": "markdown",
   "id": "0cd35cfa",
   "metadata": {},
   "source": [
    "후손 셀렉터"
   ]
  },
  {
   "cell_type": "code",
   "execution_count": 21,
   "id": "6880ba87",
   "metadata": {},
   "outputs": [
    {
     "name": "stdout",
     "output_type": "stream",
     "text": [
      "<p>온세상이 떨릴듯</p>\n",
      "<p class=\"blue\">두근거리고 <span>익숙한 듯 편안해</span></p>\n",
      "<p>네가 느껴져</p>\n",
      "<p class=\"blue\">오래된 친구같아</p>\n"
     ]
    }
   ],
   "source": [
    "result = soup.select(\"div#winter p\")\n",
    "\n",
    "for r in result:\n",
    "    print(r)"
   ]
  },
  {
   "cell_type": "markdown",
   "id": "523d3516",
   "metadata": {},
   "source": [
    "자식 셀렉터"
   ]
  },
  {
   "cell_type": "code",
   "execution_count": 22,
   "id": "27541919",
   "metadata": {},
   "outputs": [
    {
     "name": "stdout",
     "output_type": "stream",
     "text": [
      "<p>온세상이 떨릴듯</p>\n",
      "<p class=\"blue\">두근거리고 <span>익숙한 듯 편안해</span></p>\n"
     ]
    }
   ],
   "source": [
    "result = soup.select(\"div#winter > p\")\n",
    "\n",
    "for r in result:\n",
    "    print(r)"
   ]
  },
  {
   "cell_type": "code",
   "execution_count": null,
   "id": "bfd5fc96",
   "metadata": {},
   "outputs": [],
   "source": []
  }
 ],
 "metadata": {
  "kernelspec": {
   "display_name": "sesac_crawler1",
   "language": "python",
   "name": "python3"
  },
  "language_info": {
   "codemirror_mode": {
    "name": "ipython",
    "version": 3
   },
   "file_extension": ".py",
   "mimetype": "text/x-python",
   "name": "python",
   "nbconvert_exporter": "python",
   "pygments_lexer": "ipython3",
   "version": "3.6.13"
  }
 },
 "nbformat": 4,
 "nbformat_minor": 5
}
