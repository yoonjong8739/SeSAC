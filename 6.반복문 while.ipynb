{
 "cells": [
  {
   "cell_type": "markdown",
   "id": "a7bda22c",
   "metadata": {},
   "source": [
    "반복문 while"
   ]
  },
  {
   "cell_type": "code",
   "execution_count": 1,
   "id": "3b3b8503",
   "metadata": {},
   "outputs": [
    {
     "name": "stdout",
     "output_type": "stream",
     "text": [
      "현재값 :  0\n",
      "현재값 :  1\n",
      "현재값 :  2\n",
      "현재값 :  3\n",
      "현재값 :  4\n",
      "현재값 :  5\n",
      "현재값 :  6\n",
      "현재값 :  7\n",
      "현재값 :  8\n",
      "현재값 :  9\n"
     ]
    }
   ],
   "source": [
    "i = 0\n",
    "\n",
    "while i < 10:\n",
    "    print(\"현재값 : \", i)\n",
    "    i += 1"
   ]
  },
  {
   "cell_type": "code",
   "execution_count": 2,
   "id": "015933b1",
   "metadata": {},
   "outputs": [
    {
     "name": "stdout",
     "output_type": "stream",
     "text": [
      "입력 횟수 만큼 반복\n",
      "입력 횟수 만큼 반복\n",
      "입력 횟수 만큼 반복\n",
      "입력 횟수 만큼 반복\n",
      "입력 횟수 만큼 반복\n",
      "입력 횟수 만큼 반복\n",
      "입력 횟수 만큼 반복\n",
      "입력 횟수 만큼 반복\n",
      "입력 횟수 만큼 반복\n",
      "입력 횟수 만큼 반복\n"
     ]
    }
   ],
   "source": [
    "cnt = int(input(\"반복 횟수 : \"))\n",
    "i = 0\n",
    "while i < cnt:\n",
    "    print(\"입력 횟수 만큼 반복\")\n",
    "    i += 1"
   ]
  },
  {
   "cell_type": "code",
   "execution_count": 3,
   "id": "b51b560f",
   "metadata": {},
   "outputs": [
    {
     "name": "stdout",
     "output_type": "stream",
     "text": [
      "중단\n"
     ]
    }
   ],
   "source": [
    "i = 0\n",
    "while i != 5:\n",
    "    i = int(input(\"5를 입력하면 중단\"))\n",
    "print(\"중단\")"
   ]
  },
  {
   "cell_type": "markdown",
   "id": "064414da",
   "metadata": {},
   "source": [
    "break, continue"
   ]
  },
  {
   "cell_type": "code",
   "execution_count": 4,
   "id": "56c10955",
   "metadata": {},
   "outputs": [
    {
     "name": "stdout",
     "output_type": "stream",
     "text": [
      "012"
     ]
    }
   ],
   "source": [
    "for i in range(5):\n",
    "    if i == 3:\n",
    "        break\n",
    "    print(i, end=\"\")"
   ]
  },
  {
   "cell_type": "code",
   "execution_count": 5,
   "id": "5a754576",
   "metadata": {},
   "outputs": [
    {
     "name": "stdout",
     "output_type": "stream",
     "text": [
      "0,1,2,4,"
     ]
    }
   ],
   "source": [
    "for i in range(5):\n",
    "    if i == 3:\n",
    "        continue\n",
    "    print(i, end=\",\")"
   ]
  },
  {
   "cell_type": "code",
   "execution_count": null,
   "id": "5553a9dd",
   "metadata": {},
   "outputs": [],
   "source": []
  }
 ],
 "metadata": {
  "kernelspec": {
   "display_name": "sesac_crawler1",
   "language": "python",
   "name": "python3"
  },
  "language_info": {
   "codemirror_mode": {
    "name": "ipython",
    "version": 3
   },
   "file_extension": ".py",
   "mimetype": "text/x-python",
   "name": "python",
   "nbconvert_exporter": "python",
   "pygments_lexer": "ipython3",
   "version": "3.6.13"
  }
 },
 "nbformat": 4,
 "nbformat_minor": 5
}
